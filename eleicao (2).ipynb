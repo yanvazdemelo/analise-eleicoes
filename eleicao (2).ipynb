{
 "cells": [
  {
   "cell_type": "code",
   "execution_count": 1,
   "id": "dcd144a4-2e08-42c3-afaf-309dbacd2b52",
   "metadata": {
    "execution": {
     "iopub.execute_input": "2024-10-07T22:31:34.382033Z",
     "iopub.status.busy": "2024-10-07T22:31:34.381033Z",
     "iopub.status.idle": "2024-10-07T22:31:34.399285Z",
     "shell.execute_reply": "2024-10-07T22:31:34.398283Z",
     "shell.execute_reply.started": "2024-10-07T22:31:34.382033Z"
    },
    "tags": []
   },
   "outputs": [
    {
     "data": {
      "text/plain": [
       "'!pip install folium\\n!pip install geopy\\n!pip install opencage\\n!pip install geopandas\\n!pip install cartopy'"
      ]
     },
     "execution_count": 1,
     "metadata": {},
     "output_type": "execute_result"
    }
   ],
   "source": [
    "'''!pip install folium\n",
    "!pip install geopy\n",
    "!pip install opencage\n",
    "!pip install geopandas\n",
    "!pip install cartopy'''\n"
   ]
  },
  {
   "cell_type": "code",
   "execution_count": 2,
   "id": "29176940-f904-43f8-bbc8-90711bec117b",
   "metadata": {
    "execution": {
     "iopub.execute_input": "2024-10-07T22:31:34.404271Z",
     "iopub.status.busy": "2024-10-07T22:31:34.403274Z",
     "iopub.status.idle": "2024-10-07T22:31:37.968633Z",
     "shell.execute_reply": "2024-10-07T22:31:37.968633Z",
     "shell.execute_reply.started": "2024-10-07T22:31:34.404271Z"
    },
    "tags": []
   },
   "outputs": [],
   "source": [
    "import pandas as pd\n",
    "import matplotlib.pyplot as plt\n",
    "import seaborn as sns\n",
    "from pandas.plotting import table\n",
    "import unicodedata\n",
    "import os\n",
    "import geopandas as gpd\n",
    "from opencage.geocoder import OpenCageGeocode\n",
    "import folium\n",
    "import matplotlib.pyplot as plt\n",
    "import cartopy.crs as ccrs\n",
    "import cartopy.feature as cfeature\n",
    "import numpy as np\n",
    "from folium.plugins import HeatMap"
   ]
  },
  {
   "cell_type": "markdown",
   "id": "41f1ab9c-4edc-446d-8291-6446769e40e3",
   "metadata": {
    "execution": {
     "iopub.execute_input": "2024-09-16T15:29:57.268654Z",
     "iopub.status.busy": "2024-09-16T15:29:57.268654Z",
     "iopub.status.idle": "2024-09-16T15:29:57.271501Z",
     "shell.execute_reply": "2024-09-16T15:29:57.271501Z",
     "shell.execute_reply.started": "2024-09-16T15:29:57.268654Z"
    },
    "jp-MarkdownHeadingCollapsed": true,
    "tags": []
   },
   "source": [
    "# Funções"
   ]
  },
  {
   "cell_type": "code",
   "execution_count": 3,
   "id": "0b656151-f5bc-4f45-b10e-a1dcbdf6f672",
   "metadata": {
    "execution": {
     "iopub.execute_input": "2024-10-07T22:31:37.969635Z",
     "iopub.status.busy": "2024-10-07T22:31:37.969635Z",
     "iopub.status.idle": "2024-10-07T22:31:37.978649Z",
     "shell.execute_reply": "2024-10-07T22:31:37.978649Z",
     "shell.execute_reply.started": "2024-10-07T22:31:37.969635Z"
    },
    "tags": []
   },
   "outputs": [],
   "source": [
    "# Normaliza um texto\n",
    "def norm(texto):\n",
    "    texto = texto.lower()\n",
    "    texto = unicodedata.normalize('NFKD', texto)\n",
    "    texto = ''.join([c for c in texto if not unicodedata.combining(c)])\n",
    "    texto = texto.replace('ç', 'c')\n",
    "    texto = texto.replace(' ', '_')\n",
    "    texto = ''.join(e for e in texto if e.isalnum() or e == '_')\n",
    "    return texto\n",
    "\n",
    "# Cria uma tabela simples com cor no headline e no index\n",
    "def imgsimples(df, nome, titulo):\n",
    "    # Cria uma figura e um eixo\n",
    "    fig, ax = plt.subplots(figsize=(8, 8))  # Ajuste o tamanho conforme necessário\n",
    "    # Adiciona um título acima da tabela\n",
    "    fig.suptitle(titulo, fontsize=14, weight='bold', y=0.95)  # Ajuste a posição com 'y'\n",
    "\n",
    "    # Remove os eixos\n",
    "    ax.xaxis.set_visible(False)\n",
    "    ax.yaxis.set_visible(False)\n",
    "    ax.set_frame_on(False)\n",
    "\n",
    "    # Adiciona a tabela ao gráfico\n",
    "    tbl = table(ax, df, loc='center', cellLoc='left', colWidths=[0.2]*len(df.columns))\n",
    "\n",
    "    # Ajusta o tamanho da fonte\n",
    "    tbl.auto_set_font_size(False)\n",
    "    tbl.set_fontsize(10)\n",
    "\n",
    "    # Personaliza as cores\n",
    "    colors = {\n",
    "        'index': '#ff9999',  # Cor do índice\n",
    "        'header': '#66b3ff',  # Cor do cabeçalho\n",
    "    }\n",
    "\n",
    "    # Aplica a cor ao cabeçalho\n",
    "    for key, cell in tbl.get_celld().items():\n",
    "        if key[0] == 0:  # Células do cabeçalho\n",
    "            cell.set_text_props(weight='bold', fontsize='7')\n",
    "            cell.set_facecolor(colors['header'])\n",
    "        elif key[1] == -1:  # Células do índice\n",
    "            cell.set_facecolor(colors['index'])\n",
    "\n",
    "    savename = cidade.replace(' ', '_')\n",
    "    # Salva a imagem\n",
    "    plt.savefig(f'{nome}_{cidadenorm}.png', bbox_inches='tight', pad_inches=0.3)\n",
    "\n",
    "    # Exibe a imagem (opcional)\n",
    "    plt.show()\n",
    "\n",
    "#Cria uma pasta na origem\n",
    "def mkd(nome_pasta):\n",
    "    if not os.path.exists(nome_pasta):\n",
    "        os.makedirs(nome_pasta)\n",
    "        print(f\"Pasta '{nome_pasta}' criada com sucesso.\")\n",
    "    else:\n",
    "        print(f\"A pasta '{nome_pasta}' já existe.\")\n",
    "\n",
    "\n",
    "#### Geolocalizador \n",
    "# API KEY, DEVE SER MUDADO PARA EVIRON\n",
    "\n",
    "GEOAPI_KEY = 'f8c08d488b9c45588b1dcad65de8b2d4'\n",
    "\n",
    "key = GEOAPI_KEY\n",
    "geocoder = OpenCageGeocode(key)\n",
    "def geo(address):\n",
    "    result = geocoder.geocode(address)\n",
    "    if result:\n",
    "        return result[0]['geometry']['lat'], result[0]['geometry']['lng']\n",
    "    else:\n",
    "        return None, None\n",
    "    "
   ]
  },
  {
   "cell_type": "markdown",
   "id": "36a0275f-fa6e-415b-a443-5d72748010b2",
   "metadata": {
    "tags": []
   },
   "source": [
    "# Carregando dados"
   ]
  },
  {
   "cell_type": "code",
   "execution_count": 4,
   "id": "f1ad27ba-226f-41ab-87da-f2914d72ab8d",
   "metadata": {
    "execution": {
     "iopub.execute_input": "2024-10-07T22:31:37.980647Z",
     "iopub.status.busy": "2024-10-07T22:31:37.979649Z",
     "iopub.status.idle": "2024-10-07T22:32:01.957650Z",
     "shell.execute_reply": "2024-10-07T22:32:01.957650Z",
     "shell.execute_reply.started": "2024-10-07T22:31:37.980647Z"
    },
    "tags": []
   },
   "outputs": [],
   "source": [
    "# Especificar o encoding como 'latin1'\n",
    "votos = pd.read_csv(\"C:/Users/yanme/OneDrive/Área de Trabalho/Pedro Porto Análise/bweb_1t_RJ_181120201549/bweb_1t_RJ_181120201549.csv\", encoding='latin1', sep=';')\n",
    "votos = votos.drop(['DS_ELEICAO', 'NR_TURNO', 'DT_PLEITO', 'CD_PLEITO', 'NM_TIPO_ELEICAO', 'CD_TIPO_ELEICAO', 'ANO_ELEICAO', 'HH_GERACAO', 'DT_GERACAO', 'CD_ELEICAO', 'CD_MUNICIPIO', 'CD_CARGO_PERGUNTA', 'DT_BU_RECEBIDO', 'CD_TIPO_URNA', 'DS_TIPO_URNA', 'CD_TIPO_VOTAVEL', 'NR_URNA_EFETIVADA', 'CD_CARGA_1_URNA_EFETIVADA', 'CD_CARGA_2_URNA_EFETIVADA', 'CD_FLASHCARD_URNA_EFETIVADA', 'DT_CARGA_URNA_EFETIVADA', 'DS_CARGO_PERGUNTA_SECAO', 'DS_AGREGADAS', 'DT_ABERTURA', 'DT_ENCERRAMENTO', 'QT_ELEITORES_BIOMETRIA_NH', 'DT_EMISSAO_BU', 'NR_JUNTA_APURADORA', 'NR_TURMA_APURADORA'], axis=1)\n",
    "\n",
    "# VOTOS É TODOS OS VOTOS DA ELEIÇÃO MUNICIPAL DE TODAS AS CIDADES DO RIO DE JANEIRO"
   ]
  },
  {
   "cell_type": "code",
   "execution_count": 5,
   "id": "426988ad-7777-4856-9f00-fe8ca1923017",
   "metadata": {
    "execution": {
     "iopub.execute_input": "2024-10-07T22:32:01.959637Z",
     "iopub.status.busy": "2024-10-07T22:32:01.958640Z",
     "iopub.status.idle": "2024-10-07T22:32:02.061365Z",
     "shell.execute_reply": "2024-10-07T22:32:02.061365Z",
     "shell.execute_reply.started": "2024-10-07T22:32:01.959637Z"
    },
    "tags": []
   },
   "outputs": [
    {
     "data": {
      "text/html": [
       "<div>\n",
       "<style scoped>\n",
       "    .dataframe tbody tr th:only-of-type {\n",
       "        vertical-align: middle;\n",
       "    }\n",
       "\n",
       "    .dataframe tbody tr th {\n",
       "        vertical-align: top;\n",
       "    }\n",
       "\n",
       "    .dataframe thead th {\n",
       "        text-align: right;\n",
       "    }\n",
       "</style>\n",
       "<table border=\"1\" class=\"dataframe\">\n",
       "  <thead>\n",
       "    <tr style=\"text-align: right;\">\n",
       "      <th></th>\n",
       "      <th>Zona Eleitoral</th>\n",
       "      <th>Código Município TSE</th>\n",
       "      <th>Município</th>\n",
       "      <th>Bairro</th>\n",
       "      <th>Endereço do Local</th>\n",
       "      <th>CEP do Local</th>\n",
       "      <th>Número do Local</th>\n",
       "      <th>Local de Votação</th>\n",
       "      <th>Seção</th>\n",
       "      <th>Eleitores aptos</th>\n",
       "    </tr>\n",
       "  </thead>\n",
       "  <tbody>\n",
       "    <tr>\n",
       "      <th>0</th>\n",
       "      <td>4</td>\n",
       "      <td>60011</td>\n",
       "      <td>RIO DE JANEIRO</td>\n",
       "      <td>BOTAFOGO</td>\n",
       "      <td>RUA SÃO CLEMENTE 134</td>\n",
       "      <td>22260000</td>\n",
       "      <td>1058</td>\n",
       "      <td>CASA DE RUI BARBOSA</td>\n",
       "      <td>17</td>\n",
       "      <td>469</td>\n",
       "    </tr>\n",
       "    <tr>\n",
       "      <th>1</th>\n",
       "      <td>4</td>\n",
       "      <td>60011</td>\n",
       "      <td>RIO DE JANEIRO</td>\n",
       "      <td>BOTAFOGO</td>\n",
       "      <td>RUA SÃO CLEMENTE 134</td>\n",
       "      <td>22260000</td>\n",
       "      <td>1058</td>\n",
       "      <td>CASA DE RUI BARBOSA</td>\n",
       "      <td>18</td>\n",
       "      <td>462</td>\n",
       "    </tr>\n",
       "    <tr>\n",
       "      <th>2</th>\n",
       "      <td>4</td>\n",
       "      <td>60011</td>\n",
       "      <td>RIO DE JANEIRO</td>\n",
       "      <td>BOTAFOGO</td>\n",
       "      <td>RUA SÃO CLEMENTE 134</td>\n",
       "      <td>22260000</td>\n",
       "      <td>1058</td>\n",
       "      <td>CASA DE RUI BARBOSA</td>\n",
       "      <td>19</td>\n",
       "      <td>461</td>\n",
       "    </tr>\n",
       "    <tr>\n",
       "      <th>3</th>\n",
       "      <td>4</td>\n",
       "      <td>60011</td>\n",
       "      <td>RIO DE JANEIRO</td>\n",
       "      <td>BOTAFOGO</td>\n",
       "      <td>RUA SÃO CLEMENTE 134</td>\n",
       "      <td>22260000</td>\n",
       "      <td>1058</td>\n",
       "      <td>CASA DE RUI BARBOSA</td>\n",
       "      <td>20</td>\n",
       "      <td>465</td>\n",
       "    </tr>\n",
       "    <tr>\n",
       "      <th>4</th>\n",
       "      <td>4</td>\n",
       "      <td>60011</td>\n",
       "      <td>RIO DE JANEIRO</td>\n",
       "      <td>BOTAFOGO</td>\n",
       "      <td>RUA SÃO CLEMENTE 134</td>\n",
       "      <td>22260000</td>\n",
       "      <td>1058</td>\n",
       "      <td>CASA DE RUI BARBOSA</td>\n",
       "      <td>21</td>\n",
       "      <td>338</td>\n",
       "    </tr>\n",
       "  </tbody>\n",
       "</table>\n",
       "</div>"
      ],
      "text/plain": [
       "   Zona Eleitoral  Código Município TSE       Município    Bairro  \\\n",
       "0               4                 60011  RIO DE JANEIRO  BOTAFOGO   \n",
       "1               4                 60011  RIO DE JANEIRO  BOTAFOGO   \n",
       "2               4                 60011  RIO DE JANEIRO  BOTAFOGO   \n",
       "3               4                 60011  RIO DE JANEIRO  BOTAFOGO   \n",
       "4               4                 60011  RIO DE JANEIRO  BOTAFOGO   \n",
       "\n",
       "      Endereço do Local  CEP do Local  Número do Local     Local de Votação  \\\n",
       "0  RUA SÃO CLEMENTE 134      22260000             1058  CASA DE RUI BARBOSA   \n",
       "1  RUA SÃO CLEMENTE 134      22260000             1058  CASA DE RUI BARBOSA   \n",
       "2  RUA SÃO CLEMENTE 134      22260000             1058  CASA DE RUI BARBOSA   \n",
       "3  RUA SÃO CLEMENTE 134      22260000             1058  CASA DE RUI BARBOSA   \n",
       "4  RUA SÃO CLEMENTE 134      22260000             1058  CASA DE RUI BARBOSA   \n",
       "\n",
       "   Seção  Eleitores aptos  \n",
       "0     17              469  \n",
       "1     18              462  \n",
       "2     19              461  \n",
       "3     20              465  \n",
       "4     21              338  "
      ]
     },
     "execution_count": 5,
     "metadata": {},
     "output_type": "execute_result"
    }
   ],
   "source": [
    "zne = pd.read_csv('zne.csv', encoding='latin1', sep=';')\n",
    "\n",
    "zne.head()"
   ]
  },
  {
   "cell_type": "markdown",
   "id": "25b8c210-6742-4d25-bda0-1c182b6c31db",
   "metadata": {
    "tags": []
   },
   "source": [
    "# Entradas relevantes"
   ]
  },
  {
   "cell_type": "code",
   "execution_count": 6,
   "id": "4df9552c-947c-4cc9-a7ad-98409f06dc83",
   "metadata": {
    "execution": {
     "iopub.execute_input": "2024-10-07T22:32:02.063361Z",
     "iopub.status.busy": "2024-10-07T22:32:02.063361Z",
     "iopub.status.idle": "2024-10-07T22:32:02.074190Z",
     "shell.execute_reply": "2024-10-07T22:32:02.073204Z",
     "shell.execute_reply.started": "2024-10-07T22:32:02.063361Z"
    },
    "tags": []
   },
   "outputs": [
    {
     "name": "stdout",
     "output_type": "stream",
     "text": [
      "['RIO DE JANEIRO' 'NOVA FRIBURGO' 'NOVA IGUAÇU' 'PARAÍBA DO SUL'\n",
      " 'PETRÓPOLIS' 'PINHEIRAL' 'PIRAÍ' 'RESENDE' 'RIO BONITO' 'APERIBÉ'\n",
      " 'SANTO ANTÔNIO DE PÁDUA' 'SÃO FIDÉLIS' 'SÃO GONÇALO' 'SÃO JOÃO DA BARRA'\n",
      " 'TERESÓPOLIS' 'COMENDADOR LEVY GASPARIAN' 'TRÊS RIOS' 'VASSOURAS'\n",
      " 'BOM JARDIM' 'DUAS BARRAS' 'NATIVIDADE' 'VARRE-SAI' 'PORCIÚNCULA'\n",
      " 'MIGUEL PEREIRA' 'PATY DO ALFERES' 'CACHOEIRAS DE MACACU'\n",
      " 'CASIMIRO DE ABREU' 'CONCEIÇÃO DE MACABU' 'TRAJANO DE MORAES' 'CORDEIRO'\n",
      " 'MACUCO' 'MANGARATIBA' 'MARICÁ' 'MENDES' 'PARATY' 'SÃO PEDRO DA ALDEIA'\n",
      " 'SANTA MARIA MADALENA' 'SÃO SEBASTIÃO DO ALTO' 'SAPUCAIA' 'SAQUAREMA'\n",
      " 'SILVA JARDIM' 'SUMIDOURO' 'PARACAMBI' 'NITERÓI'\n",
      " 'ENGENHEIRO PAULO DE FRONTIN' 'CAMPOS DOS GOYTACAZES' 'DUQUE DE CAXIAS'\n",
      " 'MESQUITA' 'SÃO JOÃO DE MERITI' 'VOLTA REDONDA' 'BARRA MANSA' 'ARARUAMA'\n",
      " 'BARRA DO PIRAÍ' 'BOM JESUS DO ITABAPOANA' 'CABO FRIO' 'CAMBUCI'\n",
      " 'CANTAGALO' 'CARMO' 'ITABORAÍ' 'ITAGUAÍ' 'ITAOCARA' 'ITAPERUNA'\n",
      " 'SÃO JOSÉ DE UBÁ' 'RIO CLARO' 'MACAÉ' 'MAGÉ' 'RIO DAS FLORES' 'VALENÇA'\n",
      " 'LAJE DO MURIAÉ' 'MIRACEMA' 'ANGRA DOS REIS'\n",
      " 'SÃO FRANCISCO DE ITABAPOANA' 'QUEIMADOS' 'JAPERI' 'CARDOSO MOREIRA'\n",
      " 'ITALVA' 'ARRAIAL DO CABO' 'GUAPIMIRIM' 'TANGUÁ' 'BELFORD ROXO'\n",
      " 'ARMAÇÃO DOS BÚZIOS' 'AREAL' 'IGUABA GRANDE' 'PORTO REAL' 'QUATIS'\n",
      " 'RIO DAS OSTRAS' 'SÃO JOSÉ DO VALE DO RIO PRETO' 'ITATIAIA' 'NILÓPOLIS'\n",
      " 'SEROPÉDICA' 'CARAPEBUS' 'QUISSAMÃ']\n"
     ]
    }
   ],
   "source": [
    "## VEREADOR OU PREFEITO?\n",
    "\n",
    "cargo = 'Vereador'\n",
    "\n",
    "## QUAL O ANO DA ANÁLISE?\n",
    "\n",
    "ano = '2020'\n",
    "\n",
    "## CIDADES DISPONÍVEIS\n",
    "\n",
    "cidade = 'NITERÓI'\n",
    "\n",
    "todascidades = zne['Município'].unique()\n",
    "print(todascidades)"
   ]
  },
  {
   "cell_type": "code",
   "execution_count": 7,
   "id": "a907f9c8-3a99-4088-ab07-82e72ed6d241",
   "metadata": {
    "execution": {
     "iopub.execute_input": "2024-10-07T22:32:02.078178Z",
     "iopub.status.busy": "2024-10-07T22:32:02.078178Z",
     "iopub.status.idle": "2024-10-07T22:32:02.696389Z",
     "shell.execute_reply": "2024-10-07T22:32:02.696389Z",
     "shell.execute_reply.started": "2024-10-07T22:32:02.078178Z"
    },
    "tags": []
   },
   "outputs": [
    {
     "data": {
      "text/html": [
       "<div>\n",
       "<style scoped>\n",
       "    .dataframe tbody tr th:only-of-type {\n",
       "        vertical-align: middle;\n",
       "    }\n",
       "\n",
       "    .dataframe tbody tr th {\n",
       "        vertical-align: top;\n",
       "    }\n",
       "\n",
       "    .dataframe thead th {\n",
       "        text-align: right;\n",
       "    }\n",
       "</style>\n",
       "<table border=\"1\" class=\"dataframe\">\n",
       "  <thead>\n",
       "    <tr style=\"text-align: right;\">\n",
       "      <th></th>\n",
       "      <th>SG_UF</th>\n",
       "      <th>NM_MUNICIPIO</th>\n",
       "      <th>NR_ZONA</th>\n",
       "      <th>NR_SECAO</th>\n",
       "      <th>NR_LOCAL_VOTACAO</th>\n",
       "      <th>DS_CARGO_PERGUNTA</th>\n",
       "      <th>NR_PARTIDO</th>\n",
       "      <th>SG_PARTIDO</th>\n",
       "      <th>NM_PARTIDO</th>\n",
       "      <th>QT_APTOS</th>\n",
       "      <th>QT_COMPARECIMENTO</th>\n",
       "      <th>QT_ABSTENCOES</th>\n",
       "      <th>DS_TIPO_VOTAVEL</th>\n",
       "      <th>NR_VOTAVEL</th>\n",
       "      <th>NM_VOTAVEL</th>\n",
       "      <th>QT_VOTOS</th>\n",
       "    </tr>\n",
       "  </thead>\n",
       "  <tbody>\n",
       "    <tr>\n",
       "      <th>11</th>\n",
       "      <td>RJ</td>\n",
       "      <td>RIO DE JANEIRO</td>\n",
       "      <td>4</td>\n",
       "      <td>10</td>\n",
       "      <td>1180</td>\n",
       "      <td>Vereador</td>\n",
       "      <td>13</td>\n",
       "      <td>PT</td>\n",
       "      <td>Partido dos Trabalhadores</td>\n",
       "      <td>344</td>\n",
       "      <td>205</td>\n",
       "      <td>139</td>\n",
       "      <td>Legenda</td>\n",
       "      <td>13</td>\n",
       "      <td>PT</td>\n",
       "      <td>2</td>\n",
       "    </tr>\n",
       "    <tr>\n",
       "      <th>12</th>\n",
       "      <td>RJ</td>\n",
       "      <td>RIO DE JANEIRO</td>\n",
       "      <td>4</td>\n",
       "      <td>10</td>\n",
       "      <td>1180</td>\n",
       "      <td>Vereador</td>\n",
       "      <td>50</td>\n",
       "      <td>PSOL</td>\n",
       "      <td>Partido Socialismo e Liberdade</td>\n",
       "      <td>344</td>\n",
       "      <td>205</td>\n",
       "      <td>139</td>\n",
       "      <td>Nominal</td>\n",
       "      <td>50800</td>\n",
       "      <td>PATRICIA FELIX</td>\n",
       "      <td>2</td>\n",
       "    </tr>\n",
       "    <tr>\n",
       "      <th>13</th>\n",
       "      <td>RJ</td>\n",
       "      <td>RIO DE JANEIRO</td>\n",
       "      <td>4</td>\n",
       "      <td>10</td>\n",
       "      <td>1180</td>\n",
       "      <td>Vereador</td>\n",
       "      <td>30</td>\n",
       "      <td>NOVO</td>\n",
       "      <td>Partido Novo</td>\n",
       "      <td>344</td>\n",
       "      <td>205</td>\n",
       "      <td>139</td>\n",
       "      <td>Legenda</td>\n",
       "      <td>30</td>\n",
       "      <td>NOVO</td>\n",
       "      <td>3</td>\n",
       "    </tr>\n",
       "    <tr>\n",
       "      <th>14</th>\n",
       "      <td>RJ</td>\n",
       "      <td>RIO DE JANEIRO</td>\n",
       "      <td>4</td>\n",
       "      <td>10</td>\n",
       "      <td>1180</td>\n",
       "      <td>Vereador</td>\n",
       "      <td>77</td>\n",
       "      <td>SOLIDARIEDADE</td>\n",
       "      <td>Solidariedade</td>\n",
       "      <td>344</td>\n",
       "      <td>205</td>\n",
       "      <td>139</td>\n",
       "      <td>Nominal</td>\n",
       "      <td>77700</td>\n",
       "      <td>WILLIAM CORREIA</td>\n",
       "      <td>1</td>\n",
       "    </tr>\n",
       "    <tr>\n",
       "      <th>15</th>\n",
       "      <td>RJ</td>\n",
       "      <td>RIO DE JANEIRO</td>\n",
       "      <td>4</td>\n",
       "      <td>10</td>\n",
       "      <td>1180</td>\n",
       "      <td>Vereador</td>\n",
       "      <td>25</td>\n",
       "      <td>DEM</td>\n",
       "      <td>Democratas</td>\n",
       "      <td>344</td>\n",
       "      <td>205</td>\n",
       "      <td>139</td>\n",
       "      <td>Nominal</td>\n",
       "      <td>25555</td>\n",
       "      <td>PROF CÉLIO LUPPARELLI</td>\n",
       "      <td>1</td>\n",
       "    </tr>\n",
       "  </tbody>\n",
       "</table>\n",
       "</div>"
      ],
      "text/plain": [
       "   SG_UF    NM_MUNICIPIO  NR_ZONA  NR_SECAO  NR_LOCAL_VOTACAO  \\\n",
       "11    RJ  RIO DE JANEIRO        4        10              1180   \n",
       "12    RJ  RIO DE JANEIRO        4        10              1180   \n",
       "13    RJ  RIO DE JANEIRO        4        10              1180   \n",
       "14    RJ  RIO DE JANEIRO        4        10              1180   \n",
       "15    RJ  RIO DE JANEIRO        4        10              1180   \n",
       "\n",
       "   DS_CARGO_PERGUNTA  NR_PARTIDO     SG_PARTIDO  \\\n",
       "11          Vereador          13             PT   \n",
       "12          Vereador          50           PSOL   \n",
       "13          Vereador          30           NOVO   \n",
       "14          Vereador          77  SOLIDARIEDADE   \n",
       "15          Vereador          25            DEM   \n",
       "\n",
       "                        NM_PARTIDO  QT_APTOS  QT_COMPARECIMENTO  \\\n",
       "11       Partido dos Trabalhadores       344                205   \n",
       "12  Partido Socialismo e Liberdade       344                205   \n",
       "13                    Partido Novo       344                205   \n",
       "14                   Solidariedade       344                205   \n",
       "15                      Democratas       344                205   \n",
       "\n",
       "    QT_ABSTENCOES DS_TIPO_VOTAVEL  NR_VOTAVEL             NM_VOTAVEL  QT_VOTOS  \n",
       "11            139         Legenda          13                     PT         2  \n",
       "12            139         Nominal       50800         PATRICIA FELIX         2  \n",
       "13            139         Legenda          30                   NOVO         3  \n",
       "14            139         Nominal       77700        WILLIAM CORREIA         1  \n",
       "15            139         Nominal       25555  PROF CÉLIO LUPPARELLI         1  "
      ]
     },
     "execution_count": 7,
     "metadata": {},
     "output_type": "execute_result"
    }
   ],
   "source": [
    "votos = votos[votos['DS_CARGO_PERGUNTA'] == cargo]\n",
    "\n",
    "votos.head()\n",
    "\n",
    "# AQUI FILTRAMOS PARA APENAS A ELEIÇÃO MAJORITÁRIA"
   ]
  },
  {
   "cell_type": "markdown",
   "id": "ff5f4578-1886-4122-be66-a5e39a1d20e0",
   "metadata": {},
   "source": [
    "votos = votos.drop(['DS_ELEICAO', 'NR_TURNO', 'DT_PLEITO', 'CD_PLEITO', 'NM_TIPO_ELEICAO', 'CD_TIPO_ELEICAO', 'ANO_ELEICAO', 'HH_GERACAO', 'DT_GERACAO', 'CD_ELEICAO', 'SG_UF', 'CD_MUNICIPIO', 'CD_CARGO_PERGUNTA', 'DT_BU_RECEBIDO', 'CD_TIPO_URNA', 'DS_TIPO_URNA', 'CD_TIPO_VOTAVEL', 'NR_URNA_EFETIVADA', 'CD_CARGA_1_URNA_EFETIVADA', 'CD_CARGA_2_URNA_EFETIVADA', 'CD_FLASHCARD_URNA_EFETIVADA', 'DT_CARGA_URNA_EFETIVADA', 'DS_CARGO_PERGUNTA_SECAO', 'DS_AGREGADAS', 'DT_ABERTURA', 'DT_ENCERRAMENTO', 'QT_ELEITORES_BIOMETRIA_NH', 'DT_EMISSAO_BU', 'NR_JUNTA_APURADORA', 'NR_TURMA_APURADORA', axis=1]"
   ]
  },
  {
   "cell_type": "code",
   "execution_count": 8,
   "id": "89ed5199-3c7c-44bd-8bad-0165b5bdefdf",
   "metadata": {
    "execution": {
     "iopub.execute_input": "2024-10-07T22:32:02.697377Z",
     "iopub.status.busy": "2024-10-07T22:32:02.697377Z",
     "iopub.status.idle": "2024-10-07T22:32:02.770064Z",
     "shell.execute_reply": "2024-10-07T22:32:02.770064Z",
     "shell.execute_reply.started": "2024-10-07T22:32:02.697377Z"
    }
   },
   "outputs": [
    {
     "data": {
      "text/html": [
       "<div>\n",
       "<style scoped>\n",
       "    .dataframe tbody tr th:only-of-type {\n",
       "        vertical-align: middle;\n",
       "    }\n",
       "\n",
       "    .dataframe tbody tr th {\n",
       "        vertical-align: top;\n",
       "    }\n",
       "\n",
       "    .dataframe thead th {\n",
       "        text-align: right;\n",
       "    }\n",
       "</style>\n",
       "<table border=\"1\" class=\"dataframe\">\n",
       "  <thead>\n",
       "    <tr style=\"text-align: right;\">\n",
       "      <th></th>\n",
       "      <th>Zona Eleitoral</th>\n",
       "      <th>Código Município TSE</th>\n",
       "      <th>Município</th>\n",
       "      <th>Bairro</th>\n",
       "      <th>Endereço do Local</th>\n",
       "      <th>CEP do Local</th>\n",
       "      <th>Número do Local</th>\n",
       "      <th>Local de Votação</th>\n",
       "      <th>Seção</th>\n",
       "      <th>Eleitores aptos</th>\n",
       "      <th>localcode</th>\n",
       "    </tr>\n",
       "  </thead>\n",
       "  <tbody>\n",
       "    <tr>\n",
       "      <th>0</th>\n",
       "      <td>4</td>\n",
       "      <td>60011</td>\n",
       "      <td>RIO DE JANEIRO</td>\n",
       "      <td>BOTAFOGO</td>\n",
       "      <td>RUA SÃO CLEMENTE 134</td>\n",
       "      <td>22260000</td>\n",
       "      <td>1058</td>\n",
       "      <td>CASA DE RUI BARBOSA</td>\n",
       "      <td>17</td>\n",
       "      <td>469</td>\n",
       "      <td>4 17 1058</td>\n",
       "    </tr>\n",
       "    <tr>\n",
       "      <th>1</th>\n",
       "      <td>4</td>\n",
       "      <td>60011</td>\n",
       "      <td>RIO DE JANEIRO</td>\n",
       "      <td>BOTAFOGO</td>\n",
       "      <td>RUA SÃO CLEMENTE 134</td>\n",
       "      <td>22260000</td>\n",
       "      <td>1058</td>\n",
       "      <td>CASA DE RUI BARBOSA</td>\n",
       "      <td>18</td>\n",
       "      <td>462</td>\n",
       "      <td>4 18 1058</td>\n",
       "    </tr>\n",
       "    <tr>\n",
       "      <th>2</th>\n",
       "      <td>4</td>\n",
       "      <td>60011</td>\n",
       "      <td>RIO DE JANEIRO</td>\n",
       "      <td>BOTAFOGO</td>\n",
       "      <td>RUA SÃO CLEMENTE 134</td>\n",
       "      <td>22260000</td>\n",
       "      <td>1058</td>\n",
       "      <td>CASA DE RUI BARBOSA</td>\n",
       "      <td>19</td>\n",
       "      <td>461</td>\n",
       "      <td>4 19 1058</td>\n",
       "    </tr>\n",
       "    <tr>\n",
       "      <th>3</th>\n",
       "      <td>4</td>\n",
       "      <td>60011</td>\n",
       "      <td>RIO DE JANEIRO</td>\n",
       "      <td>BOTAFOGO</td>\n",
       "      <td>RUA SÃO CLEMENTE 134</td>\n",
       "      <td>22260000</td>\n",
       "      <td>1058</td>\n",
       "      <td>CASA DE RUI BARBOSA</td>\n",
       "      <td>20</td>\n",
       "      <td>465</td>\n",
       "      <td>4 20 1058</td>\n",
       "    </tr>\n",
       "    <tr>\n",
       "      <th>4</th>\n",
       "      <td>4</td>\n",
       "      <td>60011</td>\n",
       "      <td>RIO DE JANEIRO</td>\n",
       "      <td>BOTAFOGO</td>\n",
       "      <td>RUA SÃO CLEMENTE 134</td>\n",
       "      <td>22260000</td>\n",
       "      <td>1058</td>\n",
       "      <td>CASA DE RUI BARBOSA</td>\n",
       "      <td>21</td>\n",
       "      <td>338</td>\n",
       "      <td>4 21 1058</td>\n",
       "    </tr>\n",
       "  </tbody>\n",
       "</table>\n",
       "</div>"
      ],
      "text/plain": [
       "   Zona Eleitoral  Código Município TSE       Município    Bairro  \\\n",
       "0               4                 60011  RIO DE JANEIRO  BOTAFOGO   \n",
       "1               4                 60011  RIO DE JANEIRO  BOTAFOGO   \n",
       "2               4                 60011  RIO DE JANEIRO  BOTAFOGO   \n",
       "3               4                 60011  RIO DE JANEIRO  BOTAFOGO   \n",
       "4               4                 60011  RIO DE JANEIRO  BOTAFOGO   \n",
       "\n",
       "      Endereço do Local  CEP do Local  Número do Local     Local de Votação  \\\n",
       "0  RUA SÃO CLEMENTE 134      22260000             1058  CASA DE RUI BARBOSA   \n",
       "1  RUA SÃO CLEMENTE 134      22260000             1058  CASA DE RUI BARBOSA   \n",
       "2  RUA SÃO CLEMENTE 134      22260000             1058  CASA DE RUI BARBOSA   \n",
       "3  RUA SÃO CLEMENTE 134      22260000             1058  CASA DE RUI BARBOSA   \n",
       "4  RUA SÃO CLEMENTE 134      22260000             1058  CASA DE RUI BARBOSA   \n",
       "\n",
       "   Seção  Eleitores aptos  localcode  \n",
       "0     17              469  4 17 1058  \n",
       "1     18              462  4 18 1058  \n",
       "2     19              461  4 19 1058  \n",
       "3     20              465  4 20 1058  \n",
       "4     21              338  4 21 1058  "
      ]
     },
     "execution_count": 8,
     "metadata": {},
     "output_type": "execute_result"
    }
   ],
   "source": [
    "zne['localcode'] = zne['Zona Eleitoral'].astype(str) + \" \" + zne['Seção'].astype(str) + \" \" + zne['Número do Local'].astype(str)\n",
    "\n",
    "zne.head()"
   ]
  },
  {
   "cell_type": "code",
   "execution_count": 9,
   "id": "a596c2b6-3967-4e5a-96bd-bd0b0abc8aa3",
   "metadata": {
    "execution": {
     "iopub.execute_input": "2024-10-07T22:32:02.771048Z",
     "iopub.status.busy": "2024-10-07T22:32:02.771048Z",
     "iopub.status.idle": "2024-10-07T22:32:09.641744Z",
     "shell.execute_reply": "2024-10-07T22:32:09.641744Z",
     "shell.execute_reply.started": "2024-10-07T22:32:02.771048Z"
    }
   },
   "outputs": [
    {
     "data": {
      "text/html": [
       "<div>\n",
       "<style scoped>\n",
       "    .dataframe tbody tr th:only-of-type {\n",
       "        vertical-align: middle;\n",
       "    }\n",
       "\n",
       "    .dataframe tbody tr th {\n",
       "        vertical-align: top;\n",
       "    }\n",
       "\n",
       "    .dataframe thead th {\n",
       "        text-align: right;\n",
       "    }\n",
       "</style>\n",
       "<table border=\"1\" class=\"dataframe\">\n",
       "  <thead>\n",
       "    <tr style=\"text-align: right;\">\n",
       "      <th></th>\n",
       "      <th>SG_UF</th>\n",
       "      <th>NM_MUNICIPIO</th>\n",
       "      <th>NR_ZONA</th>\n",
       "      <th>NR_SECAO</th>\n",
       "      <th>NR_LOCAL_VOTACAO</th>\n",
       "      <th>DS_CARGO_PERGUNTA</th>\n",
       "      <th>NR_PARTIDO</th>\n",
       "      <th>SG_PARTIDO</th>\n",
       "      <th>NM_PARTIDO</th>\n",
       "      <th>QT_APTOS</th>\n",
       "      <th>...</th>\n",
       "      <th>NR_VOTAVEL</th>\n",
       "      <th>NM_VOTAVEL</th>\n",
       "      <th>QT_VOTOS</th>\n",
       "      <th>Zona Eleitoral</th>\n",
       "      <th>Código Município TSE</th>\n",
       "      <th>Bairro</th>\n",
       "      <th>Endereço do Local</th>\n",
       "      <th>CEP do Local</th>\n",
       "      <th>Local de Votação</th>\n",
       "      <th>Eleitores aptos</th>\n",
       "    </tr>\n",
       "  </thead>\n",
       "  <tbody>\n",
       "    <tr>\n",
       "      <th>0</th>\n",
       "      <td>RJ</td>\n",
       "      <td>RIO DE JANEIRO</td>\n",
       "      <td>4</td>\n",
       "      <td>10</td>\n",
       "      <td>1180</td>\n",
       "      <td>Vereador</td>\n",
       "      <td>13</td>\n",
       "      <td>PT</td>\n",
       "      <td>Partido dos Trabalhadores</td>\n",
       "      <td>344</td>\n",
       "      <td>...</td>\n",
       "      <td>13</td>\n",
       "      <td>PT</td>\n",
       "      <td>2</td>\n",
       "      <td>4.0</td>\n",
       "      <td>60011.0</td>\n",
       "      <td>BOTAFOGO</td>\n",
       "      <td>RUA SAO CLEMENTE, 388</td>\n",
       "      <td>22260000.0</td>\n",
       "      <td>ESCOLA ALEMÃ CORCOVADO</td>\n",
       "      <td>340.0</td>\n",
       "    </tr>\n",
       "    <tr>\n",
       "      <th>1</th>\n",
       "      <td>RJ</td>\n",
       "      <td>RIO DE JANEIRO</td>\n",
       "      <td>4</td>\n",
       "      <td>10</td>\n",
       "      <td>1180</td>\n",
       "      <td>Vereador</td>\n",
       "      <td>50</td>\n",
       "      <td>PSOL</td>\n",
       "      <td>Partido Socialismo e Liberdade</td>\n",
       "      <td>344</td>\n",
       "      <td>...</td>\n",
       "      <td>50800</td>\n",
       "      <td>PATRICIA FELIX</td>\n",
       "      <td>2</td>\n",
       "      <td>4.0</td>\n",
       "      <td>60011.0</td>\n",
       "      <td>BOTAFOGO</td>\n",
       "      <td>RUA SAO CLEMENTE, 388</td>\n",
       "      <td>22260000.0</td>\n",
       "      <td>ESCOLA ALEMÃ CORCOVADO</td>\n",
       "      <td>340.0</td>\n",
       "    </tr>\n",
       "    <tr>\n",
       "      <th>2</th>\n",
       "      <td>RJ</td>\n",
       "      <td>RIO DE JANEIRO</td>\n",
       "      <td>4</td>\n",
       "      <td>10</td>\n",
       "      <td>1180</td>\n",
       "      <td>Vereador</td>\n",
       "      <td>30</td>\n",
       "      <td>NOVO</td>\n",
       "      <td>Partido Novo</td>\n",
       "      <td>344</td>\n",
       "      <td>...</td>\n",
       "      <td>30</td>\n",
       "      <td>NOVO</td>\n",
       "      <td>3</td>\n",
       "      <td>4.0</td>\n",
       "      <td>60011.0</td>\n",
       "      <td>BOTAFOGO</td>\n",
       "      <td>RUA SAO CLEMENTE, 388</td>\n",
       "      <td>22260000.0</td>\n",
       "      <td>ESCOLA ALEMÃ CORCOVADO</td>\n",
       "      <td>340.0</td>\n",
       "    </tr>\n",
       "    <tr>\n",
       "      <th>3</th>\n",
       "      <td>RJ</td>\n",
       "      <td>RIO DE JANEIRO</td>\n",
       "      <td>4</td>\n",
       "      <td>10</td>\n",
       "      <td>1180</td>\n",
       "      <td>Vereador</td>\n",
       "      <td>77</td>\n",
       "      <td>SOLIDARIEDADE</td>\n",
       "      <td>Solidariedade</td>\n",
       "      <td>344</td>\n",
       "      <td>...</td>\n",
       "      <td>77700</td>\n",
       "      <td>WILLIAM CORREIA</td>\n",
       "      <td>1</td>\n",
       "      <td>4.0</td>\n",
       "      <td>60011.0</td>\n",
       "      <td>BOTAFOGO</td>\n",
       "      <td>RUA SAO CLEMENTE, 388</td>\n",
       "      <td>22260000.0</td>\n",
       "      <td>ESCOLA ALEMÃ CORCOVADO</td>\n",
       "      <td>340.0</td>\n",
       "    </tr>\n",
       "    <tr>\n",
       "      <th>4</th>\n",
       "      <td>RJ</td>\n",
       "      <td>RIO DE JANEIRO</td>\n",
       "      <td>4</td>\n",
       "      <td>10</td>\n",
       "      <td>1180</td>\n",
       "      <td>Vereador</td>\n",
       "      <td>25</td>\n",
       "      <td>DEM</td>\n",
       "      <td>Democratas</td>\n",
       "      <td>344</td>\n",
       "      <td>...</td>\n",
       "      <td>25555</td>\n",
       "      <td>PROF CÉLIO LUPPARELLI</td>\n",
       "      <td>1</td>\n",
       "      <td>4.0</td>\n",
       "      <td>60011.0</td>\n",
       "      <td>BOTAFOGO</td>\n",
       "      <td>RUA SAO CLEMENTE, 388</td>\n",
       "      <td>22260000.0</td>\n",
       "      <td>ESCOLA ALEMÃ CORCOVADO</td>\n",
       "      <td>340.0</td>\n",
       "    </tr>\n",
       "  </tbody>\n",
       "</table>\n",
       "<p>5 rows × 23 columns</p>\n",
       "</div>"
      ],
      "text/plain": [
       "  SG_UF    NM_MUNICIPIO  NR_ZONA  NR_SECAO  NR_LOCAL_VOTACAO  \\\n",
       "0    RJ  RIO DE JANEIRO        4        10              1180   \n",
       "1    RJ  RIO DE JANEIRO        4        10              1180   \n",
       "2    RJ  RIO DE JANEIRO        4        10              1180   \n",
       "3    RJ  RIO DE JANEIRO        4        10              1180   \n",
       "4    RJ  RIO DE JANEIRO        4        10              1180   \n",
       "\n",
       "  DS_CARGO_PERGUNTA  NR_PARTIDO     SG_PARTIDO  \\\n",
       "0          Vereador          13             PT   \n",
       "1          Vereador          50           PSOL   \n",
       "2          Vereador          30           NOVO   \n",
       "3          Vereador          77  SOLIDARIEDADE   \n",
       "4          Vereador          25            DEM   \n",
       "\n",
       "                       NM_PARTIDO  QT_APTOS  ...  NR_VOTAVEL  \\\n",
       "0       Partido dos Trabalhadores       344  ...          13   \n",
       "1  Partido Socialismo e Liberdade       344  ...       50800   \n",
       "2                    Partido Novo       344  ...          30   \n",
       "3                   Solidariedade       344  ...       77700   \n",
       "4                      Democratas       344  ...       25555   \n",
       "\n",
       "              NM_VOTAVEL QT_VOTOS  Zona Eleitoral Código Município TSE  \\\n",
       "0                     PT        2             4.0              60011.0   \n",
       "1         PATRICIA FELIX        2             4.0              60011.0   \n",
       "2                   NOVO        3             4.0              60011.0   \n",
       "3        WILLIAM CORREIA        1             4.0              60011.0   \n",
       "4  PROF CÉLIO LUPPARELLI        1             4.0              60011.0   \n",
       "\n",
       "     Bairro      Endereço do Local  CEP do Local        Local de Votação  \\\n",
       "0  BOTAFOGO  RUA SAO CLEMENTE, 388    22260000.0  ESCOLA ALEMÃ CORCOVADO   \n",
       "1  BOTAFOGO  RUA SAO CLEMENTE, 388    22260000.0  ESCOLA ALEMÃ CORCOVADO   \n",
       "2  BOTAFOGO  RUA SAO CLEMENTE, 388    22260000.0  ESCOLA ALEMÃ CORCOVADO   \n",
       "3  BOTAFOGO  RUA SAO CLEMENTE, 388    22260000.0  ESCOLA ALEMÃ CORCOVADO   \n",
       "4  BOTAFOGO  RUA SAO CLEMENTE, 388    22260000.0  ESCOLA ALEMÃ CORCOVADO   \n",
       "\n",
       "  Eleitores aptos  \n",
       "0           340.0  \n",
       "1           340.0  \n",
       "2           340.0  \n",
       "3           340.0  \n",
       "4           340.0  \n",
       "\n",
       "[5 rows x 23 columns]"
      ]
     },
     "execution_count": 9,
     "metadata": {},
     "output_type": "execute_result"
    }
   ],
   "source": [
    "# CRIANDO \n",
    "votos['localcode'] = votos['NR_ZONA'].astype(str) + \" \" + votos['NR_SECAO'].astype(str) + \" \" + votos['NR_LOCAL_VOTACAO'].astype(str)\n",
    "votos = pd.merge(votos, zne, on='localcode', how='left')\n",
    "votos = votos.drop(['Município', 'localcode', 'Número do Local', 'Seção'], axis=1)\n",
    "votos.head()"
   ]
  },
  {
   "cell_type": "code",
   "execution_count": 10,
   "id": "e528562d-6875-4e22-a16a-795f1c2c63ab",
   "metadata": {
    "execution": {
     "iopub.execute_input": "2024-10-07T22:32:09.643736Z",
     "iopub.status.busy": "2024-10-07T22:32:09.642738Z",
     "iopub.status.idle": "2024-10-07T22:32:10.354189Z",
     "shell.execute_reply": "2024-10-07T22:32:10.354189Z",
     "shell.execute_reply.started": "2024-10-07T22:32:09.643736Z"
    },
    "tags": []
   },
   "outputs": [
    {
     "name": "stdout",
     "output_type": "stream",
     "text": [
      "A pasta 'niteroi' já existe.\n",
      "O nome normalizado da cidade é niteroi\n"
     ]
    }
   ],
   "source": [
    "# FILTRAR A CIDADE DE AMBAS AS TABELAS\n",
    "cidadenorm = norm(cidade)\n",
    "mkd(f'{cidadenorm}')\n",
    "################################\n",
    "def f_cidadedf(df, coluna, cidade):\n",
    "    df = df[df[coluna] == cidade]\n",
    "    return df\n",
    "\n",
    "zne = f_cidadedf(zne, \"Município\", cidade)\n",
    "votos = f_cidadedf(votos, \"NM_MUNICIPIO\", cidade)\n",
    "\n",
    "print(f\"O nome normalizado da cidade é {cidadenorm}\")"
   ]
  },
  {
   "cell_type": "code",
   "execution_count": 11,
   "id": "c93372a8-8884-44dc-b2fd-9256627430be",
   "metadata": {
    "execution": {
     "iopub.execute_input": "2024-10-07T22:32:10.355174Z",
     "iopub.status.busy": "2024-10-07T22:32:10.355174Z",
     "iopub.status.idle": "2024-10-07T22:32:10.371236Z",
     "shell.execute_reply": "2024-10-07T22:32:10.371236Z",
     "shell.execute_reply.started": "2024-10-07T22:32:10.355174Z"
    },
    "tags": []
   },
   "outputs": [],
   "source": [
    "candidatos = votos['NM_VOTAVEL'].unique()"
   ]
  },
  {
   "cell_type": "code",
   "execution_count": 12,
   "id": "925ed906-2b71-4aeb-83e2-b00dcbcd32ba",
   "metadata": {
    "execution": {
     "iopub.execute_input": "2024-10-07T22:32:10.373203Z",
     "iopub.status.busy": "2024-10-07T22:32:10.372205Z",
     "iopub.status.idle": "2024-10-07T22:32:10.396890Z",
     "shell.execute_reply": "2024-10-07T22:32:10.396890Z",
     "shell.execute_reply.started": "2024-10-07T22:32:10.373203Z"
    },
    "tags": []
   },
   "outputs": [
    {
     "data": {
      "text/html": [
       "<div>\n",
       "<style scoped>\n",
       "    .dataframe tbody tr th:only-of-type {\n",
       "        vertical-align: middle;\n",
       "    }\n",
       "\n",
       "    .dataframe tbody tr th {\n",
       "        vertical-align: top;\n",
       "    }\n",
       "\n",
       "    .dataframe thead th {\n",
       "        text-align: right;\n",
       "    }\n",
       "</style>\n",
       "<table border=\"1\" class=\"dataframe\">\n",
       "  <thead>\n",
       "    <tr style=\"text-align: right;\">\n",
       "      <th></th>\n",
       "      <th>SG_UF</th>\n",
       "      <th>NM_MUNICIPIO</th>\n",
       "      <th>NR_PARTIDO</th>\n",
       "      <th>SG_PARTIDO</th>\n",
       "      <th>QT_ABSTENCOES</th>\n",
       "      <th>NR_VOTAVEL</th>\n",
       "      <th>NM_VOTAVEL</th>\n",
       "      <th>QT_VOTOS</th>\n",
       "      <th>Código Município TSE</th>\n",
       "      <th>Bairro</th>\n",
       "      <th>Endereço do Local</th>\n",
       "      <th>CEP do Local</th>\n",
       "      <th>Local de Votação</th>\n",
       "      <th>Eleitores aptos</th>\n",
       "    </tr>\n",
       "  </thead>\n",
       "  <tbody>\n",
       "    <tr>\n",
       "      <th>803565</th>\n",
       "      <td>RJ</td>\n",
       "      <td>NITERÓI</td>\n",
       "      <td>17</td>\n",
       "      <td>PSL</td>\n",
       "      <td>80</td>\n",
       "      <td>17000</td>\n",
       "      <td>FRED MARTINS</td>\n",
       "      <td>2</td>\n",
       "      <td>58653.0</td>\n",
       "      <td>SANTA ROSA</td>\n",
       "      <td>RUA ITAGUAI 173</td>\n",
       "      <td>24240130.0</td>\n",
       "      <td>CENTRO EDUCACIONAL DE NITEROI - CENTRINHO</td>\n",
       "      <td>317.0</td>\n",
       "    </tr>\n",
       "    <tr>\n",
       "      <th>803566</th>\n",
       "      <td>RJ</td>\n",
       "      <td>NITERÓI</td>\n",
       "      <td>43</td>\n",
       "      <td>PV</td>\n",
       "      <td>80</td>\n",
       "      <td>43000</td>\n",
       "      <td>ANA GUIMARÃES</td>\n",
       "      <td>1</td>\n",
       "      <td>58653.0</td>\n",
       "      <td>SANTA ROSA</td>\n",
       "      <td>RUA ITAGUAI 173</td>\n",
       "      <td>24240130.0</td>\n",
       "      <td>CENTRO EDUCACIONAL DE NITEROI - CENTRINHO</td>\n",
       "      <td>317.0</td>\n",
       "    </tr>\n",
       "    <tr>\n",
       "      <th>803567</th>\n",
       "      <td>RJ</td>\n",
       "      <td>NITERÓI</td>\n",
       "      <td>65</td>\n",
       "      <td>PC do B</td>\n",
       "      <td>80</td>\n",
       "      <td>65133</td>\n",
       "      <td>PARACHOQUE</td>\n",
       "      <td>1</td>\n",
       "      <td>58653.0</td>\n",
       "      <td>SANTA ROSA</td>\n",
       "      <td>RUA ITAGUAI 173</td>\n",
       "      <td>24240130.0</td>\n",
       "      <td>CENTRO EDUCACIONAL DE NITEROI - CENTRINHO</td>\n",
       "      <td>317.0</td>\n",
       "    </tr>\n",
       "    <tr>\n",
       "      <th>803568</th>\n",
       "      <td>RJ</td>\n",
       "      <td>NITERÓI</td>\n",
       "      <td>50</td>\n",
       "      <td>PSOL</td>\n",
       "      <td>80</td>\n",
       "      <td>50377</td>\n",
       "      <td>PAULA</td>\n",
       "      <td>1</td>\n",
       "      <td>58653.0</td>\n",
       "      <td>SANTA ROSA</td>\n",
       "      <td>RUA ITAGUAI 173</td>\n",
       "      <td>24240130.0</td>\n",
       "      <td>CENTRO EDUCACIONAL DE NITEROI - CENTRINHO</td>\n",
       "      <td>317.0</td>\n",
       "    </tr>\n",
       "    <tr>\n",
       "      <th>803569</th>\n",
       "      <td>RJ</td>\n",
       "      <td>NITERÓI</td>\n",
       "      <td>70</td>\n",
       "      <td>AVANTE</td>\n",
       "      <td>80</td>\n",
       "      <td>70123</td>\n",
       "      <td>PAULO VELASCO</td>\n",
       "      <td>1</td>\n",
       "      <td>58653.0</td>\n",
       "      <td>SANTA ROSA</td>\n",
       "      <td>RUA ITAGUAI 173</td>\n",
       "      <td>24240130.0</td>\n",
       "      <td>CENTRO EDUCACIONAL DE NITEROI - CENTRINHO</td>\n",
       "      <td>317.0</td>\n",
       "    </tr>\n",
       "  </tbody>\n",
       "</table>\n",
       "</div>"
      ],
      "text/plain": [
       "       SG_UF NM_MUNICIPIO  NR_PARTIDO SG_PARTIDO  QT_ABSTENCOES  NR_VOTAVEL  \\\n",
       "803565    RJ      NITERÓI          17        PSL             80       17000   \n",
       "803566    RJ      NITERÓI          43         PV             80       43000   \n",
       "803567    RJ      NITERÓI          65    PC do B             80       65133   \n",
       "803568    RJ      NITERÓI          50       PSOL             80       50377   \n",
       "803569    RJ      NITERÓI          70     AVANTE             80       70123   \n",
       "\n",
       "           NM_VOTAVEL  QT_VOTOS  Código Município TSE      Bairro  \\\n",
       "803565   FRED MARTINS         2               58653.0  SANTA ROSA   \n",
       "803566  ANA GUIMARÃES         1               58653.0  SANTA ROSA   \n",
       "803567     PARACHOQUE         1               58653.0  SANTA ROSA   \n",
       "803568          PAULA         1               58653.0  SANTA ROSA   \n",
       "803569  PAULO VELASCO         1               58653.0  SANTA ROSA   \n",
       "\n",
       "       Endereço do Local  CEP do Local  \\\n",
       "803565   RUA ITAGUAI 173    24240130.0   \n",
       "803566   RUA ITAGUAI 173    24240130.0   \n",
       "803567   RUA ITAGUAI 173    24240130.0   \n",
       "803568   RUA ITAGUAI 173    24240130.0   \n",
       "803569   RUA ITAGUAI 173    24240130.0   \n",
       "\n",
       "                                 Local de Votação  Eleitores aptos  \n",
       "803565  CENTRO EDUCACIONAL DE NITEROI - CENTRINHO            317.0  \n",
       "803566  CENTRO EDUCACIONAL DE NITEROI - CENTRINHO            317.0  \n",
       "803567  CENTRO EDUCACIONAL DE NITEROI - CENTRINHO            317.0  \n",
       "803568  CENTRO EDUCACIONAL DE NITEROI - CENTRINHO            317.0  \n",
       "803569  CENTRO EDUCACIONAL DE NITEROI - CENTRINHO            317.0  "
      ]
     },
     "execution_count": 12,
     "metadata": {},
     "output_type": "execute_result"
    }
   ],
   "source": [
    "#Simplificação votos \n",
    "vts = votos.drop(['NR_SECAO', 'NR_LOCAL_VOTACAO', 'DS_CARGO_PERGUNTA', 'NM_PARTIDO', 'DS_TIPO_VOTAVEL', 'NR_ZONA', 'Zona Eleitoral', 'QT_COMPARECIMENTO', 'QT_APTOS'], axis=1)\n",
    "vts.head()"
   ]
  },
  {
   "cell_type": "markdown",
   "id": "c0c566bc-84b6-4523-b387-46300dc00b88",
   "metadata": {
    "execution": {
     "iopub.execute_input": "2024-09-09T15:20:38.793645Z",
     "iopub.status.busy": "2024-09-09T15:20:38.793645Z",
     "iopub.status.idle": "2024-09-09T15:20:38.859542Z",
     "shell.execute_reply": "2024-09-09T15:20:38.859542Z",
     "shell.execute_reply.started": "2024-09-09T15:20:38.793645Z"
    },
    "tags": []
   },
   "source": [
    "votos = pd.merge(votos, zne, on='NR_ZONA', how='left')\n",
    "votos = votos.drop(['nome_municipio'], axis=1)\n",
    "votos.head()"
   ]
  },
  {
   "cell_type": "markdown",
   "id": "a3d397cb-6cbe-49d3-a095-4e34d40836c5",
   "metadata": {
    "tags": []
   },
   "source": [
    "# TERRITÓRIO"
   ]
  },
  {
   "cell_type": "code",
   "execution_count": 13,
   "id": "90f14187-a405-47a9-9d64-b4283d51bf58",
   "metadata": {
    "execution": {
     "iopub.execute_input": "2024-10-07T22:32:10.397871Z",
     "iopub.status.busy": "2024-10-07T22:32:10.397871Z",
     "iopub.status.idle": "2024-10-07T22:32:10.404167Z",
     "shell.execute_reply": "2024-10-07T22:32:10.403297Z",
     "shell.execute_reply.started": "2024-10-07T22:32:10.397871Z"
    },
    "tags": []
   },
   "outputs": [
    {
     "name": "stdout",
     "output_type": "stream",
     "text": [
      "Index(['SG_UF', 'NM_MUNICIPIO', 'NR_ZONA', 'NR_SECAO', 'NR_LOCAL_VOTACAO',\n",
      "       'DS_CARGO_PERGUNTA', 'NR_PARTIDO', 'SG_PARTIDO', 'NM_PARTIDO',\n",
      "       'QT_APTOS', 'QT_COMPARECIMENTO', 'QT_ABSTENCOES', 'DS_TIPO_VOTAVEL',\n",
      "       'NR_VOTAVEL', 'NM_VOTAVEL', 'QT_VOTOS', 'Zona Eleitoral',\n",
      "       'Código Município TSE', 'Bairro', 'Endereço do Local', 'CEP do Local',\n",
      "       'Local de Votação', 'Eleitores aptos'],\n",
      "      dtype='object')\n"
     ]
    }
   ],
   "source": [
    "# Instrumental\n",
    "cat = votos.columns\n",
    "\n",
    "print(cat)"
   ]
  },
  {
   "cell_type": "code",
   "execution_count": 14,
   "id": "4b762daa-f107-420f-afbc-47c6e627019d",
   "metadata": {
    "execution": {
     "iopub.execute_input": "2024-10-07T22:32:10.405165Z",
     "iopub.status.busy": "2024-10-07T22:32:10.405165Z",
     "iopub.status.idle": "2024-10-07T22:32:10.421303Z",
     "shell.execute_reply": "2024-10-07T22:32:10.421303Z",
     "shell.execute_reply.started": "2024-10-07T22:32:10.405165Z"
    },
    "tags": []
   },
   "outputs": [
    {
     "name": "stdout",
     "output_type": "stream",
     "text": [
      "['SANTA ROSA' 'ICARAÍ' 'VITAL BRASIL' 'CENTRO' 'SÃO DOMINGOS' 'INGÁ'\n",
      " 'ILHA DA CONCEIÇÃO' \"PONTA D'AREIA\" 'FÁTIMA' 'CARAMUJO' 'BADU'\n",
      " 'LARGO DA BATALHA' 'SANTA BARBARA' 'ITITIOCA' 'CANTAGALO' 'SAPÊ'\n",
      " 'SÃO FRANCISCO' 'JURUJUBA' 'BARRETO' 'TENENTE JARDIM' 'ENGENHOCA'\n",
      " 'FONSECA' 'BALDEADOR' 'CUBANGO' 'VILA PROGRESSO' 'MARIA PAULA'\n",
      " 'ITACOATIARA' 'ITAIPU' 'PIRATININGA' 'RIO DO OURO' 'ENGENHO DO MATO'\n",
      " 'VÁRZEA DAS MOÇAS' 'SERRA GRANDE' 'CAMBOINHAS' 'CAFUBÁ']\n"
     ]
    }
   ],
   "source": [
    "# QUAIS BAIRROS PODEM SER LOCALIZADOS ATRAVÉS DAS SEÇÕES ELEITORAIS\n",
    "bairros = votos['Bairro'].unique()\n",
    "print(bairros)"
   ]
  },
  {
   "cell_type": "markdown",
   "id": "f1035a06-c8e2-4277-9970-4697455ee051",
   "metadata": {
    "jp-MarkdownHeadingCollapsed": true,
    "tags": []
   },
   "source": [
    "## Território/Partido"
   ]
  },
  {
   "cell_type": "code",
   "execution_count": 15,
   "id": "d9fb219c-22cd-456b-a4f0-be08c43799cd",
   "metadata": {
    "execution": {
     "iopub.execute_input": "2024-10-07T22:32:10.424274Z",
     "iopub.status.busy": "2024-10-07T22:32:10.423277Z",
     "iopub.status.idle": "2024-10-07T22:32:10.811240Z",
     "shell.execute_reply": "2024-10-07T22:32:10.810241Z",
     "shell.execute_reply.started": "2024-10-07T22:32:10.424274Z"
    },
    "tags": []
   },
   "outputs": [
    {
     "name": "stderr",
     "output_type": "stream",
     "text": [
      "C:\\Users\\yanme\\AppData\\Local\\Temp\\ipykernel_9172\\217790692.py:4: FutureWarning: Not prepending group keys to the result index of transform-like apply. In the future, the group keys will be included in the index, regardless of whether the applied function returns a like-indexed object.\n",
      "To preserve the previous behavior, use\n",
      "\n",
      "\t>>> .groupby(..., group_keys=False)\n",
      "\n",
      "To adopt the future behavior and silence this warning, use \n",
      "\n",
      "\t>>> .groupby(..., group_keys=True)\n",
      "  npb = npb.groupby(level=0).apply(lambda x: x.sort_values(by='QT_VOTOS', ascending=False))\n"
     ]
    }
   ],
   "source": [
    "# Groupby partido e bairro\n",
    "parti_bairro  = vts[['Bairro', 'SG_PARTIDO', 'QT_VOTOS']]\n",
    "npb = parti_bairro.groupby(['Bairro', 'SG_PARTIDO']).sum().reset_index()\n",
    "npb = npb.groupby(level=0).apply(lambda x: x.sort_values(by='QT_VOTOS', ascending=False))\n"
   ]
  },
  {
   "cell_type": "code",
   "execution_count": 16,
   "id": "52d2a371-900a-44d5-8dbb-27face587790",
   "metadata": {
    "execution": {
     "iopub.execute_input": "2024-10-07T22:32:10.813233Z",
     "iopub.status.busy": "2024-10-07T22:32:10.812236Z",
     "iopub.status.idle": "2024-10-07T22:32:10.825950Z",
     "shell.execute_reply": "2024-10-07T22:32:10.825950Z",
     "shell.execute_reply.started": "2024-10-07T22:32:10.813233Z"
    },
    "tags": []
   },
   "outputs": [
    {
     "name": "stdout",
     "output_type": "stream",
     "text": [
      "                   TT_BAIRRO\n",
      "Bairro                      \n",
      "FONSECA                35940\n",
      "ICARAÍ                 35780\n",
      "SANTA ROSA             28275\n",
      "BARRETO                17562\n",
      "CENTRO                 17068\n",
      "PIRATININGA            16466\n",
      "ITAIPU                 13894\n",
      "BADU                   11637\n",
      "SÃO FRANCISCO          10080\n",
      "ENGENHOCA               8062\n",
      "LARGO DA BATALHA        7148\n",
      "SÃO DOMINGOS            6976\n",
      "JURUJUBA                6922\n",
      "INGÁ                    5908\n",
      "CARAMUJO                5876\n",
      "SAPÊ                    5496\n",
      "SANTA BARBARA           4482\n",
      "ILHA DA CONCEIÇÃO       3985\n",
      "VITAL BRASIL            3714\n",
      "MARIA PAULA             3684\n",
      "VILA PROGRESSO          3402\n",
      "CUBANGO                 3317\n",
      "ITITIOCA                3281\n",
      "SERRA GRANDE            2981\n",
      "CANTAGALO               2754\n",
      "ENGENHO DO MATO         2647\n",
      "VÁRZEA DAS MOÇAS        2450\n",
      "TENENTE JARDIM          2168\n",
      "RIO DO OURO             2116\n",
      "BALDEADOR               1787\n",
      "ITACOATIARA             1626\n",
      "CAMBOINHAS              1324\n",
      "FÁTIMA                  1249\n",
      "PONTA D'AREIA           1058\n",
      "CAFUBÁ                   476\n"
     ]
    },
    {
     "name": "stderr",
     "output_type": "stream",
     "text": [
      "C:\\Users\\yanme\\AppData\\Local\\Temp\\ipykernel_9172\\1165169315.py:3: FutureWarning: The default value of numeric_only in DataFrameGroupBy.sum is deprecated. In a future version, numeric_only will default to False. Either specify numeric_only or select only columns which should be valid for the function.\n",
      "  cepb = npb.groupby('Bairro').sum()\n"
     ]
    }
   ],
   "source": [
    "# Qual os bairros com maior colégio eleitoral?\n",
    "\n",
    "cepb = npb.groupby('Bairro').sum()\n",
    "cepb = cepb.sort_values(by='QT_VOTOS', ascending=False)\n",
    "cepb = cepb.rename(columns={'QT_VOTOS': 'TT_BAIRRO'})\n",
    "\n",
    "print(cepb)"
   ]
  },
  {
   "cell_type": "code",
   "execution_count": 17,
   "id": "6d8a5753-10dd-4b52-8c3a-27726084f878",
   "metadata": {
    "execution": {
     "iopub.execute_input": "2024-10-07T22:32:10.827935Z",
     "iopub.status.busy": "2024-10-07T22:32:10.827935Z",
     "iopub.status.idle": "2024-10-07T22:32:11.767668Z",
     "shell.execute_reply": "2024-10-07T22:32:11.767668Z",
     "shell.execute_reply.started": "2024-10-07T22:32:10.827935Z"
    },
    "tags": []
   },
   "outputs": [
    {
     "data": {
      "image/png": "[encoded data removed]",
      "text/plain": [
       "<Figure size 800x800 with 1 Axes>"
      ]
     },
     "metadata": {},
     "output_type": "display_data"
    }
   ],
   "source": [
    "imgsimples(cepb, \"eleitorestotais\", f\"Total de votos válidos/bairro [{cidade}/{ano}]\")"
   ]
  },
  {
   "cell_type": "code",
   "execution_count": 18,
   "id": "28428bdb-4d53-4dd1-bb9f-975a104e1394",
   "metadata": {
    "execution": {
     "iopub.execute_input": "2024-10-07T22:32:11.768661Z",
     "iopub.status.busy": "2024-10-07T22:32:11.768661Z",
     "iopub.status.idle": "2024-10-07T22:32:11.776198Z",
     "shell.execute_reply": "2024-10-07T22:32:11.776198Z",
     "shell.execute_reply.started": "2024-10-07T22:32:11.768661Z"
    },
    "tags": []
   },
   "outputs": [],
   "source": [
    "# Continuando Numero de votos por Partido por Bairro (npb)\n",
    "\n",
    "npbvar = pd.merge(npb, cepb, on='Bairro', how='left')\n",
    "npb['QT_DO_TT'] =  npbvar['QT_VOTOS'] / npbvar['TT_BAIRRO'] * 100"
   ]
  },
  {
   "cell_type": "code",
   "execution_count": 19,
   "id": "52b5a5d4-7d4c-4380-98f2-09621ed62487",
   "metadata": {
    "execution": {
     "iopub.execute_input": "2024-10-07T22:32:11.777192Z",
     "iopub.status.busy": "2024-10-07T22:32:11.777192Z",
     "iopub.status.idle": "2024-10-07T22:32:12.240839Z",
     "shell.execute_reply": "2024-10-07T22:32:12.240839Z",
     "shell.execute_reply.started": "2024-10-07T22:32:11.777192Z"
    },
    "tags": []
   },
   "outputs": [
    {
     "name": "stdout",
     "output_type": "stream",
     "text": [
      "                Bairro     SG_PARTIDO  QT_VOTOS   QT_DO_TT\n",
      "0                 BADU         #NULO#      1123   9.650254\n",
      "1                 BADU         AVANTE       766   6.582453\n",
      "2                 BADU      CIDADANIA       508   4.365386\n",
      "3                 BADU             DC         8   0.068746\n",
      "4                 BADU            DEM       157   1.349145\n",
      "...                ...            ...       ...        ...\n",
      "1055  VÁRZEA DAS MOÇAS            PTC        46   1.877551\n",
      "1056  VÁRZEA DAS MOÇAS             PV       346  14.122449\n",
      "1057  VÁRZEA DAS MOÇAS           REDE        11   0.448980\n",
      "1058  VÁRZEA DAS MOÇAS   REPUBLICANOS        25   1.020408\n",
      "1059  VÁRZEA DAS MOÇAS  SOLIDARIEDADE        39   1.591837\n",
      "\n",
      "[1060 rows x 4 columns]\n"
     ]
    }
   ],
   "source": [
    "npb.to_excel(f'partidosporbairro_{cidadenorm}.xlsx', index=False)\n",
    "print(npb)"
   ]
  },
  {
   "cell_type": "code",
   "execution_count": 20,
   "id": "48b7029a-75df-40d5-98bf-2ae990334ea6",
   "metadata": {
    "execution": {
     "iopub.execute_input": "2024-10-07T22:32:12.242830Z",
     "iopub.status.busy": "2024-10-07T22:32:12.241831Z",
     "iopub.status.idle": "2024-10-07T22:32:12.672442Z",
     "shell.execute_reply": "2024-10-07T22:32:12.672442Z",
     "shell.execute_reply.started": "2024-10-07T22:32:12.242830Z"
    },
    "tags": []
   },
   "outputs": [
    {
     "name": "stdout",
     "output_type": "stream",
     "text": [
      "                    Bairro  QT_VOTOS   QT_DO_TT\n",
      "SG_PARTIDO                                     \n",
      "#NULO#                BADU      1123   9.650254\n",
      "#NULO#           BALDEADOR       219  12.255176\n",
      "#NULO#             BARRETO      2062  11.741260\n",
      "#NULO#              CAFUBÁ        53  11.134454\n",
      "#NULO#          CAMBOINHAS       125   9.441088\n",
      "...                    ...       ...        ...\n",
      "UP            SÃO DOMINGOS        16   0.229358\n",
      "UP           SÃO FRANCISCO         5   0.049603\n",
      "UP          TENENTE JARDIM         1   0.046125\n",
      "UP          VILA PROGRESSO         3   0.088183\n",
      "UP            VITAL BRASIL         7   0.188476\n",
      "\n",
      "[1060 rows x 3 columns]\n"
     ]
    },
    {
     "name": "stderr",
     "output_type": "stream",
     "text": [
      "C:\\Users\\yanme\\AppData\\Local\\Temp\\ipykernel_9172\\2575552785.py:4: FutureWarning: Not prepending group keys to the result index of transform-like apply. In the future, the group keys will be included in the index, regardless of whether the applied function returns a like-indexed object.\n",
      "To preserve the previous behavior, use\n",
      "\n",
      "\t>>> .groupby(..., group_keys=False)\n",
      "\n",
      "To adopt the future behavior and silence this warning, use \n",
      "\n",
      "\t>>> .groupby(..., group_keys=True)\n",
      "  nbp = nbp.groupby(level=0).apply(lambda x: x.sort_values(by='QT_VOTOS', ascending=False))\n"
     ]
    }
   ],
   "source": [
    "# Groupby partido e bairro\n",
    "parti_bairro  = vts[['SG_PARTIDO', 'Bairro' , 'QT_VOTOS']]\n",
    "nbp = parti_bairro.groupby(['SG_PARTIDO', 'Bairro']).sum().reset_index()\n",
    "nbp = nbp.groupby(level=0).apply(lambda x: x.sort_values(by='QT_VOTOS', ascending=False))\n",
    "\n",
    "nbpvar = pd.merge(nbp, cepb, on='Bairro', how='left')\n",
    "nbp['QT_DO_TT'] =  nbpvar['QT_VOTOS'] / nbpvar['TT_BAIRRO'] * 100\n",
    "nbp = nbp.set_index('SG_PARTIDO')\n",
    "nbp.to_excel(f'bairroporpartido_{cidadenorm}.xlsx', index=True)\n",
    "print(nbp)"
   ]
  },
  {
   "cell_type": "markdown",
   "id": "8f1228f9-2d56-41f6-a7fa-ee31b5b0862a",
   "metadata": {},
   "source": [
    "## Território/Candidato"
   ]
  },
  {
   "cell_type": "code",
   "execution_count": 21,
   "id": "257e46a7-b6da-4f1c-a63a-0fd245d8c5e0",
   "metadata": {
    "execution": {
     "iopub.execute_input": "2024-10-07T22:32:12.674435Z",
     "iopub.status.busy": "2024-10-07T22:32:12.673438Z",
     "iopub.status.idle": "2024-10-07T22:32:12.849542Z",
     "shell.execute_reply": "2024-10-07T22:32:12.848550Z",
     "shell.execute_reply.started": "2024-10-07T22:32:12.674435Z"
    },
    "tags": []
   },
   "outputs": [
    {
     "name": "stderr",
     "output_type": "stream",
     "text": [
      "C:\\Users\\yanme\\AppData\\Local\\Temp\\ipykernel_9172\\3321373820.py:5: SettingWithCopyWarning: \n",
      "A value is trying to be set on a copy of a slice from a DataFrame.\n",
      "Try using .loc[row_indexer,col_indexer] = value instead\n",
      "\n",
      "See the caveats in the documentation: https://pandas.pydata.org/pandas-docs/stable/user_guide/indexing.html#returning-a-view-versus-a-copy\n",
      "  vtscand['CD_VOTAVEL'] = vtscand['NR_VOTAVEL'].astype(str) + \"_\" + vtscand['NM_VOTAVEL'].astype(str)\n"
     ]
    },
    {
     "data": {
      "text/html": [
       "<div>\n",
       "<style scoped>\n",
       "    .dataframe tbody tr th:only-of-type {\n",
       "        vertical-align: middle;\n",
       "    }\n",
       "\n",
       "    .dataframe tbody tr th {\n",
       "        vertical-align: top;\n",
       "    }\n",
       "\n",
       "    .dataframe thead th {\n",
       "        text-align: right;\n",
       "    }\n",
       "</style>\n",
       "<table border=\"1\" class=\"dataframe\">\n",
       "  <thead>\n",
       "    <tr style=\"text-align: right;\">\n",
       "      <th></th>\n",
       "      <th>CD_VOTAVEL</th>\n",
       "      <th>SG_PARTIDO</th>\n",
       "      <th>Bairro</th>\n",
       "      <th>QT_VOTOS</th>\n",
       "    </tr>\n",
       "  </thead>\n",
       "  <tbody>\n",
       "    <tr>\n",
       "      <th>803565</th>\n",
       "      <td>17000_FRED MARTINS</td>\n",
       "      <td>PSL</td>\n",
       "      <td>SANTA ROSA</td>\n",
       "      <td>2</td>\n",
       "    </tr>\n",
       "    <tr>\n",
       "      <th>803566</th>\n",
       "      <td>43000_ANA GUIMARÃES</td>\n",
       "      <td>PV</td>\n",
       "      <td>SANTA ROSA</td>\n",
       "      <td>1</td>\n",
       "    </tr>\n",
       "    <tr>\n",
       "      <th>803567</th>\n",
       "      <td>65133_PARACHOQUE</td>\n",
       "      <td>PC do B</td>\n",
       "      <td>SANTA ROSA</td>\n",
       "      <td>1</td>\n",
       "    </tr>\n",
       "    <tr>\n",
       "      <th>803568</th>\n",
       "      <td>50377_PAULA</td>\n",
       "      <td>PSOL</td>\n",
       "      <td>SANTA ROSA</td>\n",
       "      <td>1</td>\n",
       "    </tr>\n",
       "    <tr>\n",
       "      <th>803569</th>\n",
       "      <td>70123_PAULO VELASCO</td>\n",
       "      <td>AVANTE</td>\n",
       "      <td>SANTA ROSA</td>\n",
       "      <td>1</td>\n",
       "    </tr>\n",
       "    <tr>\n",
       "      <th>803570</th>\n",
       "      <td>45000_CASOTA</td>\n",
       "      <td>PSDB</td>\n",
       "      <td>SANTA ROSA</td>\n",
       "      <td>1</td>\n",
       "    </tr>\n",
       "    <tr>\n",
       "      <th>803571</th>\n",
       "      <td>50001_PAULO EDUARDO GOMES</td>\n",
       "      <td>PSOL</td>\n",
       "      <td>SANTA ROSA</td>\n",
       "      <td>8</td>\n",
       "    </tr>\n",
       "    <tr>\n",
       "      <th>803572</th>\n",
       "      <td>17700_FRANCISCO</td>\n",
       "      <td>PSL</td>\n",
       "      <td>SANTA ROSA</td>\n",
       "      <td>4</td>\n",
       "    </tr>\n",
       "    <tr>\n",
       "      <th>803574</th>\n",
       "      <td>23823_FAFA ARAUJO</td>\n",
       "      <td>CIDADANIA</td>\n",
       "      <td>SANTA ROSA</td>\n",
       "      <td>1</td>\n",
       "    </tr>\n",
       "    <tr>\n",
       "      <th>803575</th>\n",
       "      <td>65115_BETINHO IECIN</td>\n",
       "      <td>PC do B</td>\n",
       "      <td>SANTA ROSA</td>\n",
       "      <td>1</td>\n",
       "    </tr>\n",
       "  </tbody>\n",
       "</table>\n",
       "</div>"
      ],
      "text/plain": [
       "                       CD_VOTAVEL SG_PARTIDO      Bairro  QT_VOTOS\n",
       "803565         17000_FRED MARTINS        PSL  SANTA ROSA         2\n",
       "803566        43000_ANA GUIMARÃES         PV  SANTA ROSA         1\n",
       "803567           65133_PARACHOQUE    PC do B  SANTA ROSA         1\n",
       "803568                50377_PAULA       PSOL  SANTA ROSA         1\n",
       "803569        70123_PAULO VELASCO     AVANTE  SANTA ROSA         1\n",
       "803570               45000_CASOTA       PSDB  SANTA ROSA         1\n",
       "803571  50001_PAULO EDUARDO GOMES       PSOL  SANTA ROSA         8\n",
       "803572            17700_FRANCISCO        PSL  SANTA ROSA         4\n",
       "803574          23823_FAFA ARAUJO  CIDADANIA  SANTA ROSA         1\n",
       "803575        65115_BETINHO IECIN    PC do B  SANTA ROSA         1"
      ]
     },
     "execution_count": 21,
     "metadata": {},
     "output_type": "execute_result"
    }
   ],
   "source": [
    "# Candidatos desagregados\n",
    "\n",
    "vtscand = vts[vts['NR_VOTAVEL'].astype(str).str.len() != 2] # Retira votos de legenda\n",
    "\n",
    "vtscand['CD_VOTAVEL'] = vtscand['NR_VOTAVEL'].astype(str) + \"_\" + vtscand['NM_VOTAVEL'].astype(str)\n",
    "\n",
    "\n",
    "ncb = vtscand[['CD_VOTAVEL', 'SG_PARTIDO', 'Bairro' , 'QT_VOTOS']]\n",
    "ncb.head(10)"
   ]
  },
  {
   "cell_type": "code",
   "execution_count": 22,
   "id": "c4ef3255-2426-4ee4-8a57-2a2076e9ec11",
   "metadata": {
    "execution": {
     "iopub.execute_input": "2024-10-07T22:32:12.853529Z",
     "iopub.status.busy": "2024-10-07T22:32:12.852532Z",
     "iopub.status.idle": "2024-10-07T22:32:12.881438Z",
     "shell.execute_reply": "2024-10-07T22:32:12.881438Z",
     "shell.execute_reply.started": "2024-10-07T22:32:12.853529Z"
    },
    "tags": []
   },
   "outputs": [
    {
     "data": {
      "text/html": [
       "<div>\n",
       "<style scoped>\n",
       "    .dataframe tbody tr th:only-of-type {\n",
       "        vertical-align: middle;\n",
       "    }\n",
       "\n",
       "    .dataframe tbody tr th {\n",
       "        vertical-align: top;\n",
       "    }\n",
       "\n",
       "    .dataframe thead th {\n",
       "        text-align: right;\n",
       "    }\n",
       "</style>\n",
       "<table border=\"1\" class=\"dataframe\">\n",
       "  <thead>\n",
       "    <tr style=\"text-align: right;\">\n",
       "      <th></th>\n",
       "      <th>CD_VOTAVEL</th>\n",
       "      <th>SG_PARTIDO</th>\n",
       "      <th>Bairro</th>\n",
       "      <th>QT_VOTOS</th>\n",
       "      <th>TT_BAIRRO</th>\n",
       "    </tr>\n",
       "  </thead>\n",
       "  <tbody>\n",
       "    <tr>\n",
       "      <th>0</th>\n",
       "      <td>17000_FRED MARTINS</td>\n",
       "      <td>PSL</td>\n",
       "      <td>SANTA ROSA</td>\n",
       "      <td>2</td>\n",
       "      <td>28275</td>\n",
       "    </tr>\n",
       "    <tr>\n",
       "      <th>1</th>\n",
       "      <td>43000_ANA GUIMARÃES</td>\n",
       "      <td>PV</td>\n",
       "      <td>SANTA ROSA</td>\n",
       "      <td>1</td>\n",
       "      <td>28275</td>\n",
       "    </tr>\n",
       "    <tr>\n",
       "      <th>2</th>\n",
       "      <td>65133_PARACHOQUE</td>\n",
       "      <td>PC do B</td>\n",
       "      <td>SANTA ROSA</td>\n",
       "      <td>1</td>\n",
       "      <td>28275</td>\n",
       "    </tr>\n",
       "    <tr>\n",
       "      <th>3</th>\n",
       "      <td>50377_PAULA</td>\n",
       "      <td>PSOL</td>\n",
       "      <td>SANTA ROSA</td>\n",
       "      <td>1</td>\n",
       "      <td>28275</td>\n",
       "    </tr>\n",
       "    <tr>\n",
       "      <th>4</th>\n",
       "      <td>70123_PAULO VELASCO</td>\n",
       "      <td>AVANTE</td>\n",
       "      <td>SANTA ROSA</td>\n",
       "      <td>1</td>\n",
       "      <td>28275</td>\n",
       "    </tr>\n",
       "  </tbody>\n",
       "</table>\n",
       "</div>"
      ],
      "text/plain": [
       "            CD_VOTAVEL SG_PARTIDO      Bairro  QT_VOTOS  TT_BAIRRO\n",
       "0   17000_FRED MARTINS        PSL  SANTA ROSA         2      28275\n",
       "1  43000_ANA GUIMARÃES         PV  SANTA ROSA         1      28275\n",
       "2     65133_PARACHOQUE    PC do B  SANTA ROSA         1      28275\n",
       "3          50377_PAULA       PSOL  SANTA ROSA         1      28275\n",
       "4  70123_PAULO VELASCO     AVANTE  SANTA ROSA         1      28275"
      ]
     },
     "execution_count": 22,
     "metadata": {},
     "output_type": "execute_result"
    }
   ],
   "source": [
    "ncbvar = []\n",
    "ncbvar = pd.merge(ncb, cepb, on='Bairro', how='left')\n",
    "ncbvar.head()"
   ]
  },
  {
   "cell_type": "code",
   "execution_count": 23,
   "id": "82d6689e-c224-447b-9e7c-2a66a39a8d05",
   "metadata": {
    "execution": {
     "iopub.execute_input": "2024-10-07T22:32:12.883427Z",
     "iopub.status.busy": "2024-10-07T22:32:12.883427Z",
     "iopub.status.idle": "2024-10-07T22:32:12.894747Z",
     "shell.execute_reply": "2024-10-07T22:32:12.894747Z",
     "shell.execute_reply.started": "2024-10-07T22:32:12.883427Z"
    },
    "tags": []
   },
   "outputs": [
    {
     "data": {
      "text/html": [
       "<div>\n",
       "<style scoped>\n",
       "    .dataframe tbody tr th:only-of-type {\n",
       "        vertical-align: middle;\n",
       "    }\n",
       "\n",
       "    .dataframe tbody tr th {\n",
       "        vertical-align: top;\n",
       "    }\n",
       "\n",
       "    .dataframe thead th {\n",
       "        text-align: right;\n",
       "    }\n",
       "</style>\n",
       "<table border=\"1\" class=\"dataframe\">\n",
       "  <thead>\n",
       "    <tr style=\"text-align: right;\">\n",
       "      <th></th>\n",
       "      <th>CD_VOTAVEL</th>\n",
       "      <th>SG_PARTIDO</th>\n",
       "      <th>Bairro</th>\n",
       "      <th>QT_VOTOS</th>\n",
       "      <th>TT_BAIRRO</th>\n",
       "      <th>QT_DO_TT</th>\n",
       "    </tr>\n",
       "  </thead>\n",
       "  <tbody>\n",
       "    <tr>\n",
       "      <th>0</th>\n",
       "      <td>17000_FRED MARTINS</td>\n",
       "      <td>PSL</td>\n",
       "      <td>SANTA ROSA</td>\n",
       "      <td>2</td>\n",
       "      <td>28275</td>\n",
       "      <td>0.007073</td>\n",
       "    </tr>\n",
       "    <tr>\n",
       "      <th>1</th>\n",
       "      <td>43000_ANA GUIMARÃES</td>\n",
       "      <td>PV</td>\n",
       "      <td>SANTA ROSA</td>\n",
       "      <td>1</td>\n",
       "      <td>28275</td>\n",
       "      <td>0.003537</td>\n",
       "    </tr>\n",
       "    <tr>\n",
       "      <th>2</th>\n",
       "      <td>65133_PARACHOQUE</td>\n",
       "      <td>PC do B</td>\n",
       "      <td>SANTA ROSA</td>\n",
       "      <td>1</td>\n",
       "      <td>28275</td>\n",
       "      <td>0.003537</td>\n",
       "    </tr>\n",
       "    <tr>\n",
       "      <th>3</th>\n",
       "      <td>50377_PAULA</td>\n",
       "      <td>PSOL</td>\n",
       "      <td>SANTA ROSA</td>\n",
       "      <td>1</td>\n",
       "      <td>28275</td>\n",
       "      <td>0.003537</td>\n",
       "    </tr>\n",
       "    <tr>\n",
       "      <th>4</th>\n",
       "      <td>70123_PAULO VELASCO</td>\n",
       "      <td>AVANTE</td>\n",
       "      <td>SANTA ROSA</td>\n",
       "      <td>1</td>\n",
       "      <td>28275</td>\n",
       "      <td>0.003537</td>\n",
       "    </tr>\n",
       "  </tbody>\n",
       "</table>\n",
       "</div>"
      ],
      "text/plain": [
       "            CD_VOTAVEL SG_PARTIDO      Bairro  QT_VOTOS  TT_BAIRRO  QT_DO_TT\n",
       "0   17000_FRED MARTINS        PSL  SANTA ROSA         2      28275  0.007073\n",
       "1  43000_ANA GUIMARÃES         PV  SANTA ROSA         1      28275  0.003537\n",
       "2     65133_PARACHOQUE    PC do B  SANTA ROSA         1      28275  0.003537\n",
       "3          50377_PAULA       PSOL  SANTA ROSA         1      28275  0.003537\n",
       "4  70123_PAULO VELASCO     AVANTE  SANTA ROSA         1      28275  0.003537"
      ]
     },
     "execution_count": 23,
     "metadata": {},
     "output_type": "execute_result"
    }
   ],
   "source": [
    "ncbvar['QT_DO_TT'] =  ncbvar['QT_VOTOS'] / ncbvar['TT_BAIRRO'] * 100\n",
    "ncbvar['QT_DO_TT'].round(3)\n",
    "ncbvar.head()"
   ]
  },
  {
   "cell_type": "code",
   "execution_count": 24,
   "id": "9fea7620-4444-443e-8c97-5dc4248e1265",
   "metadata": {
    "execution": {
     "iopub.execute_input": "2024-10-07T22:32:12.895734Z",
     "iopub.status.busy": "2024-10-07T22:32:12.895734Z",
     "iopub.status.idle": "2024-10-07T22:32:17.796910Z",
     "shell.execute_reply": "2024-10-07T22:32:17.796910Z",
     "shell.execute_reply.started": "2024-10-07T22:32:12.895734Z"
    },
    "tags": []
   },
   "outputs": [
    {
     "name": "stderr",
     "output_type": "stream",
     "text": [
      "C:\\Users\\yanme\\AppData\\Local\\Temp\\ipykernel_9172\\3525042513.py:4: FutureWarning: The default value of numeric_only in DataFrameGroupBy.sum is deprecated. In a future version, numeric_only will default to False. Either specify numeric_only or select only columns which should be valid for the function.\n",
      "  var = var.groupby(['CD_VOTAVEL', 'Bairro']).sum()\n",
      "C:\\Users\\yanme\\AppData\\Local\\Temp\\ipykernel_9172\\3525042513.py:4: FutureWarning: The default value of numeric_only in DataFrameGroupBy.sum is deprecated. In a future version, numeric_only will default to False. Either specify numeric_only or select only columns which should be valid for the function.\n",
      "  var = var.groupby(['CD_VOTAVEL', 'Bairro']).sum()\n",
      "C:\\Users\\yanme\\AppData\\Local\\Temp\\ipykernel_9172\\3525042513.py:4: FutureWarning: The default value of numeric_only in DataFrameGroupBy.sum is deprecated. In a future version, numeric_only will default to False. Either specify numeric_only or select only columns which should be valid for the function.\n",
      "  var = var.groupby(['CD_VOTAVEL', 'Bairro']).sum()\n",
      "C:\\Users\\yanme\\AppData\\Local\\Temp\\ipykernel_9172\\3525042513.py:4: FutureWarning: The default value of numeric_only in DataFrameGroupBy.sum is deprecated. In a future version, numeric_only will default to False. Either specify numeric_only or select only columns which should be valid for the function.\n",
      "  var = var.groupby(['CD_VOTAVEL', 'Bairro']).sum()\n",
      "C:\\Users\\yanme\\AppData\\Local\\Temp\\ipykernel_9172\\3525042513.py:4: FutureWarning: The default value of numeric_only in DataFrameGroupBy.sum is deprecated. In a future version, numeric_only will default to False. Either specify numeric_only or select only columns which should be valid for the function.\n",
      "  var = var.groupby(['CD_VOTAVEL', 'Bairro']).sum()\n",
      "C:\\Users\\yanme\\AppData\\Local\\Temp\\ipykernel_9172\\3525042513.py:4: FutureWarning: The default value of numeric_only in DataFrameGroupBy.sum is deprecated. In a future version, numeric_only will default to False. Either specify numeric_only or select only columns which should be valid for the function.\n",
      "  var = var.groupby(['CD_VOTAVEL', 'Bairro']).sum()\n",
      "C:\\Users\\yanme\\AppData\\Local\\Temp\\ipykernel_9172\\3525042513.py:4: FutureWarning: The default value of numeric_only in DataFrameGroupBy.sum is deprecated. In a future version, numeric_only will default to False. Either specify numeric_only or select only columns which should be valid for the function.\n",
      "  var = var.groupby(['CD_VOTAVEL', 'Bairro']).sum()\n",
      "C:\\Users\\yanme\\AppData\\Local\\Temp\\ipykernel_9172\\3525042513.py:4: FutureWarning: The default value of numeric_only in DataFrameGroupBy.sum is deprecated. In a future version, numeric_only will default to False. Either specify numeric_only or select only columns which should be valid for the function.\n",
      "  var = var.groupby(['CD_VOTAVEL', 'Bairro']).sum()\n",
      "C:\\Users\\yanme\\AppData\\Local\\Temp\\ipykernel_9172\\3525042513.py:4: FutureWarning: The default value of numeric_only in DataFrameGroupBy.sum is deprecated. In a future version, numeric_only will default to False. Either specify numeric_only or select only columns which should be valid for the function.\n",
      "  var = var.groupby(['CD_VOTAVEL', 'Bairro']).sum()\n",
      "C:\\Users\\yanme\\AppData\\Local\\Temp\\ipykernel_9172\\3525042513.py:4: FutureWarning: The default value of numeric_only in DataFrameGroupBy.sum is deprecated. In a future version, numeric_only will default to False. Either specify numeric_only or select only columns which should be valid for the function.\n",
      "  var = var.groupby(['CD_VOTAVEL', 'Bairro']).sum()\n",
      "C:\\Users\\yanme\\AppData\\Local\\Temp\\ipykernel_9172\\3525042513.py:4: FutureWarning: The default value of numeric_only in DataFrameGroupBy.sum is deprecated. In a future version, numeric_only will default to False. Either specify numeric_only or select only columns which should be valid for the function.\n",
      "  var = var.groupby(['CD_VOTAVEL', 'Bairro']).sum()\n",
      "C:\\Users\\yanme\\AppData\\Local\\Temp\\ipykernel_9172\\3525042513.py:4: FutureWarning: The default value of numeric_only in DataFrameGroupBy.sum is deprecated. In a future version, numeric_only will default to False. Either specify numeric_only or select only columns which should be valid for the function.\n",
      "  var = var.groupby(['CD_VOTAVEL', 'Bairro']).sum()\n",
      "C:\\Users\\yanme\\AppData\\Local\\Temp\\ipykernel_9172\\3525042513.py:4: FutureWarning: The default value of numeric_only in DataFrameGroupBy.sum is deprecated. In a future version, numeric_only will default to False. Either specify numeric_only or select only columns which should be valid for the function.\n",
      "  var = var.groupby(['CD_VOTAVEL', 'Bairro']).sum()\n",
      "C:\\Users\\yanme\\AppData\\Local\\Temp\\ipykernel_9172\\3525042513.py:4: FutureWarning: The default value of numeric_only in DataFrameGroupBy.sum is deprecated. In a future version, numeric_only will default to False. Either specify numeric_only or select only columns which should be valid for the function.\n",
      "  var = var.groupby(['CD_VOTAVEL', 'Bairro']).sum()\n",
      "C:\\Users\\yanme\\AppData\\Local\\Temp\\ipykernel_9172\\3525042513.py:4: FutureWarning: The default value of numeric_only in DataFrameGroupBy.sum is deprecated. In a future version, numeric_only will default to False. Either specify numeric_only or select only columns which should be valid for the function.\n",
      "  var = var.groupby(['CD_VOTAVEL', 'Bairro']).sum()\n",
      "C:\\Users\\yanme\\AppData\\Local\\Temp\\ipykernel_9172\\3525042513.py:4: FutureWarning: The default value of numeric_only in DataFrameGroupBy.sum is deprecated. In a future version, numeric_only will default to False. Either specify numeric_only or select only columns which should be valid for the function.\n",
      "  var = var.groupby(['CD_VOTAVEL', 'Bairro']).sum()\n",
      "C:\\Users\\yanme\\AppData\\Local\\Temp\\ipykernel_9172\\3525042513.py:4: FutureWarning: The default value of numeric_only in DataFrameGroupBy.sum is deprecated. In a future version, numeric_only will default to False. Either specify numeric_only or select only columns which should be valid for the function.\n",
      "  var = var.groupby(['CD_VOTAVEL', 'Bairro']).sum()\n",
      "C:\\Users\\yanme\\AppData\\Local\\Temp\\ipykernel_9172\\3525042513.py:4: FutureWarning: The default value of numeric_only in DataFrameGroupBy.sum is deprecated. In a future version, numeric_only will default to False. Either specify numeric_only or select only columns which should be valid for the function.\n",
      "  var = var.groupby(['CD_VOTAVEL', 'Bairro']).sum()\n",
      "C:\\Users\\yanme\\AppData\\Local\\Temp\\ipykernel_9172\\3525042513.py:4: FutureWarning: The default value of numeric_only in DataFrameGroupBy.sum is deprecated. In a future version, numeric_only will default to False. Either specify numeric_only or select only columns which should be valid for the function.\n",
      "  var = var.groupby(['CD_VOTAVEL', 'Bairro']).sum()\n",
      "C:\\Users\\yanme\\AppData\\Local\\Temp\\ipykernel_9172\\3525042513.py:4: FutureWarning: The default value of numeric_only in DataFrameGroupBy.sum is deprecated. In a future version, numeric_only will default to False. Either specify numeric_only or select only columns which should be valid for the function.\n",
      "  var = var.groupby(['CD_VOTAVEL', 'Bairro']).sum()\n",
      "C:\\Users\\yanme\\AppData\\Local\\Temp\\ipykernel_9172\\3525042513.py:4: FutureWarning: The default value of numeric_only in DataFrameGroupBy.sum is deprecated. In a future version, numeric_only will default to False. Either specify numeric_only or select only columns which should be valid for the function.\n",
      "  var = var.groupby(['CD_VOTAVEL', 'Bairro']).sum()\n",
      "C:\\Users\\yanme\\AppData\\Local\\Temp\\ipykernel_9172\\3525042513.py:4: FutureWarning: The default value of numeric_only in DataFrameGroupBy.sum is deprecated. In a future version, numeric_only will default to False. Either specify numeric_only or select only columns which should be valid for the function.\n",
      "  var = var.groupby(['CD_VOTAVEL', 'Bairro']).sum()\n",
      "C:\\Users\\yanme\\AppData\\Local\\Temp\\ipykernel_9172\\3525042513.py:4: FutureWarning: The default value of numeric_only in DataFrameGroupBy.sum is deprecated. In a future version, numeric_only will default to False. Either specify numeric_only or select only columns which should be valid for the function.\n",
      "  var = var.groupby(['CD_VOTAVEL', 'Bairro']).sum()\n",
      "C:\\Users\\yanme\\AppData\\Local\\Temp\\ipykernel_9172\\3525042513.py:4: FutureWarning: The default value of numeric_only in DataFrameGroupBy.sum is deprecated. In a future version, numeric_only will default to False. Either specify numeric_only or select only columns which should be valid for the function.\n",
      "  var = var.groupby(['CD_VOTAVEL', 'Bairro']).sum()\n",
      "C:\\Users\\yanme\\AppData\\Local\\Temp\\ipykernel_9172\\3525042513.py:4: FutureWarning: The default value of numeric_only in DataFrameGroupBy.sum is deprecated. In a future version, numeric_only will default to False. Either specify numeric_only or select only columns which should be valid for the function.\n",
      "  var = var.groupby(['CD_VOTAVEL', 'Bairro']).sum()\n",
      "C:\\Users\\yanme\\AppData\\Local\\Temp\\ipykernel_9172\\3525042513.py:4: FutureWarning: The default value of numeric_only in DataFrameGroupBy.sum is deprecated. In a future version, numeric_only will default to False. Either specify numeric_only or select only columns which should be valid for the function.\n",
      "  var = var.groupby(['CD_VOTAVEL', 'Bairro']).sum()\n",
      "C:\\Users\\yanme\\AppData\\Local\\Temp\\ipykernel_9172\\3525042513.py:4: FutureWarning: The default value of numeric_only in DataFrameGroupBy.sum is deprecated. In a future version, numeric_only will default to False. Either specify numeric_only or select only columns which should be valid for the function.\n",
      "  var = var.groupby(['CD_VOTAVEL', 'Bairro']).sum()\n",
      "C:\\Users\\yanme\\AppData\\Local\\Temp\\ipykernel_9172\\3525042513.py:4: FutureWarning: The default value of numeric_only in DataFrameGroupBy.sum is deprecated. In a future version, numeric_only will default to False. Either specify numeric_only or select only columns which should be valid for the function.\n",
      "  var = var.groupby(['CD_VOTAVEL', 'Bairro']).sum()\n",
      "C:\\Users\\yanme\\AppData\\Local\\Temp\\ipykernel_9172\\3525042513.py:4: FutureWarning: The default value of numeric_only in DataFrameGroupBy.sum is deprecated. In a future version, numeric_only will default to False. Either specify numeric_only or select only columns which should be valid for the function.\n",
      "  var = var.groupby(['CD_VOTAVEL', 'Bairro']).sum()\n",
      "C:\\Users\\yanme\\AppData\\Local\\Temp\\ipykernel_9172\\3525042513.py:4: FutureWarning: The default value of numeric_only in DataFrameGroupBy.sum is deprecated. In a future version, numeric_only will default to False. Either specify numeric_only or select only columns which should be valid for the function.\n",
      "  var = var.groupby(['CD_VOTAVEL', 'Bairro']).sum()\n"
     ]
    }
   ],
   "source": [
    "partidos = ncbvar['SG_PARTIDO'].unique()\n",
    "for pt in partidos:\n",
    "    var = ncbvar[ncbvar['SG_PARTIDO'] == f'{pt}']\n",
    "    var = var.groupby(['CD_VOTAVEL', 'Bairro']).sum()\n",
    "    pt = norm(pt)\n",
    "    var.to_excel(f'{cidadenorm}/{cidadenorm}_{pt}_bairros.xlsx', index=True)"
   ]
  },
  {
   "cell_type": "code",
   "execution_count": 25,
   "id": "f324460d-0c36-450f-ab69-b7e6065bfb63",
   "metadata": {
    "execution": {
     "iopub.execute_input": "2024-10-07T22:32:17.797904Z",
     "iopub.status.busy": "2024-10-07T22:32:17.797904Z",
     "iopub.status.idle": "2024-10-07T22:32:17.805172Z",
     "shell.execute_reply": "2024-10-07T22:32:17.804175Z",
     "shell.execute_reply.started": "2024-10-07T22:32:17.797904Z"
    }
   },
   "outputs": [
    {
     "data": {
      "text/plain": [
       "'vtscand = vts[vts[\\'NR_VOTAVEL\\'].astype(str).str.len() != 2] # Retira votos de legenda\\n\\nvtscand[\\'CD_VOTAVEL\\'] = vtscand[\\'NR_VOTAVEL\\'].astype(str) + \"_\" + vtscand[\\'NM_VOTAVEL\\'].astype(str)\\n\\n\\nncb = vtscand[[\\'CD_VOTAVEL\\', \\'SG_PARTIDO\\', \\'Bairro\\' , \\'QT_VOTOS\\']]\\n\\nncbvar[\\'QT_DO_TT\\'] =  ncbvar[\\'QT_VOTOS\\'] / ncbvar[\\'TT_BAIRRO\\'] * 100\\nncbvar[\\'QT_DO_TT\\'].round(3)\\n\\npartidos = ncbvar[\\'SG_PARTIDO\\'].unique()\\nfor pt in partidos:\\n    var = ncbvar[ncbvar[\\'SG_PARTIDO\\'] == f\\'{pt}\\']\\n    var = var.groupby([\\'CD_VOTAVEL\\', \\'Bairro\\']).sum()\\n    pt = norm(pt)\\n    var.to_excel(f\\'{cidadenorm}/{cidadenorm}_{pt}_bairros.xlsx\\', index=True)'"
      ]
     },
     "execution_count": 25,
     "metadata": {},
     "output_type": "execute_result"
    }
   ],
   "source": [
    "'''vtscand = vts[vts['NR_VOTAVEL'].astype(str).str.len() != 2] # Retira votos de legenda\n",
    "\n",
    "vtscand['CD_VOTAVEL'] = vtscand['NR_VOTAVEL'].astype(str) + \"_\" + vtscand['NM_VOTAVEL'].astype(str)\n",
    "\n",
    "\n",
    "ncb = vtscand[['CD_VOTAVEL', 'SG_PARTIDO', 'Bairro' , 'QT_VOTOS']]\n",
    "\n",
    "ncbvar['QT_DO_TT'] =  ncbvar['QT_VOTOS'] / ncbvar['TT_BAIRRO'] * 100\n",
    "ncbvar['QT_DO_TT'].round(3)\n",
    "\n",
    "partidos = ncbvar['SG_PARTIDO'].unique()\n",
    "for pt in partidos:\n",
    "    var = ncbvar[ncbvar['SG_PARTIDO'] == f'{pt}']\n",
    "    var = var.groupby(['CD_VOTAVEL', 'Bairro']).sum()\n",
    "    pt = norm(pt)\n",
    "    var.to_excel(f'{cidadenorm}/{cidadenorm}_{pt}_bairros.xlsx', index=True)'''"
   ]
  },
  {
   "cell_type": "code",
   "execution_count": 26,
   "id": "932b4c93-db1a-44b3-aae5-c2291df2d5e5",
   "metadata": {
    "execution": {
     "iopub.execute_input": "2024-10-07T22:32:17.807166Z",
     "iopub.status.busy": "2024-10-07T22:32:17.806167Z",
     "iopub.status.idle": "2024-10-07T22:32:17.822004Z",
     "shell.execute_reply": "2024-10-07T22:32:17.822004Z",
     "shell.execute_reply.started": "2024-10-07T22:32:17.807166Z"
    },
    "tags": []
   },
   "outputs": [
    {
     "data": {
      "text/html": [
       "<div>\n",
       "<style scoped>\n",
       "    .dataframe tbody tr th:only-of-type {\n",
       "        vertical-align: middle;\n",
       "    }\n",
       "\n",
       "    .dataframe tbody tr th {\n",
       "        vertical-align: top;\n",
       "    }\n",
       "\n",
       "    .dataframe thead th {\n",
       "        text-align: right;\n",
       "    }\n",
       "</style>\n",
       "<table border=\"1\" class=\"dataframe\">\n",
       "  <thead>\n",
       "    <tr style=\"text-align: right;\">\n",
       "      <th></th>\n",
       "      <th>SG_UF</th>\n",
       "      <th>NM_MUNICIPIO</th>\n",
       "      <th>NR_PARTIDO</th>\n",
       "      <th>SG_PARTIDO</th>\n",
       "      <th>QT_ABSTENCOES</th>\n",
       "      <th>NR_VOTAVEL</th>\n",
       "      <th>NM_VOTAVEL</th>\n",
       "      <th>QT_VOTOS</th>\n",
       "      <th>Código Município TSE</th>\n",
       "      <th>Bairro</th>\n",
       "      <th>Endereço do Local</th>\n",
       "      <th>CEP do Local</th>\n",
       "      <th>Local de Votação</th>\n",
       "      <th>Eleitores aptos</th>\n",
       "    </tr>\n",
       "  </thead>\n",
       "  <tbody>\n",
       "    <tr>\n",
       "      <th>803565</th>\n",
       "      <td>RJ</td>\n",
       "      <td>NITERÓI</td>\n",
       "      <td>17</td>\n",
       "      <td>PSL</td>\n",
       "      <td>80</td>\n",
       "      <td>17000</td>\n",
       "      <td>FRED MARTINS</td>\n",
       "      <td>2</td>\n",
       "      <td>58653.0</td>\n",
       "      <td>SANTA ROSA</td>\n",
       "      <td>RUA ITAGUAI 173</td>\n",
       "      <td>24240130.0</td>\n",
       "      <td>CENTRO EDUCACIONAL DE NITEROI - CENTRINHO</td>\n",
       "      <td>317.0</td>\n",
       "    </tr>\n",
       "    <tr>\n",
       "      <th>803566</th>\n",
       "      <td>RJ</td>\n",
       "      <td>NITERÓI</td>\n",
       "      <td>43</td>\n",
       "      <td>PV</td>\n",
       "      <td>80</td>\n",
       "      <td>43000</td>\n",
       "      <td>ANA GUIMARÃES</td>\n",
       "      <td>1</td>\n",
       "      <td>58653.0</td>\n",
       "      <td>SANTA ROSA</td>\n",
       "      <td>RUA ITAGUAI 173</td>\n",
       "      <td>24240130.0</td>\n",
       "      <td>CENTRO EDUCACIONAL DE NITEROI - CENTRINHO</td>\n",
       "      <td>317.0</td>\n",
       "    </tr>\n",
       "    <tr>\n",
       "      <th>803567</th>\n",
       "      <td>RJ</td>\n",
       "      <td>NITERÓI</td>\n",
       "      <td>65</td>\n",
       "      <td>PC do B</td>\n",
       "      <td>80</td>\n",
       "      <td>65133</td>\n",
       "      <td>PARACHOQUE</td>\n",
       "      <td>1</td>\n",
       "      <td>58653.0</td>\n",
       "      <td>SANTA ROSA</td>\n",
       "      <td>RUA ITAGUAI 173</td>\n",
       "      <td>24240130.0</td>\n",
       "      <td>CENTRO EDUCACIONAL DE NITEROI - CENTRINHO</td>\n",
       "      <td>317.0</td>\n",
       "    </tr>\n",
       "    <tr>\n",
       "      <th>803568</th>\n",
       "      <td>RJ</td>\n",
       "      <td>NITERÓI</td>\n",
       "      <td>50</td>\n",
       "      <td>PSOL</td>\n",
       "      <td>80</td>\n",
       "      <td>50377</td>\n",
       "      <td>PAULA</td>\n",
       "      <td>1</td>\n",
       "      <td>58653.0</td>\n",
       "      <td>SANTA ROSA</td>\n",
       "      <td>RUA ITAGUAI 173</td>\n",
       "      <td>24240130.0</td>\n",
       "      <td>CENTRO EDUCACIONAL DE NITEROI - CENTRINHO</td>\n",
       "      <td>317.0</td>\n",
       "    </tr>\n",
       "    <tr>\n",
       "      <th>803569</th>\n",
       "      <td>RJ</td>\n",
       "      <td>NITERÓI</td>\n",
       "      <td>70</td>\n",
       "      <td>AVANTE</td>\n",
       "      <td>80</td>\n",
       "      <td>70123</td>\n",
       "      <td>PAULO VELASCO</td>\n",
       "      <td>1</td>\n",
       "      <td>58653.0</td>\n",
       "      <td>SANTA ROSA</td>\n",
       "      <td>RUA ITAGUAI 173</td>\n",
       "      <td>24240130.0</td>\n",
       "      <td>CENTRO EDUCACIONAL DE NITEROI - CENTRINHO</td>\n",
       "      <td>317.0</td>\n",
       "    </tr>\n",
       "  </tbody>\n",
       "</table>\n",
       "</div>"
      ],
      "text/plain": [
       "       SG_UF NM_MUNICIPIO  NR_PARTIDO SG_PARTIDO  QT_ABSTENCOES  NR_VOTAVEL  \\\n",
       "803565    RJ      NITERÓI          17        PSL             80       17000   \n",
       "803566    RJ      NITERÓI          43         PV             80       43000   \n",
       "803567    RJ      NITERÓI          65    PC do B             80       65133   \n",
       "803568    RJ      NITERÓI          50       PSOL             80       50377   \n",
       "803569    RJ      NITERÓI          70     AVANTE             80       70123   \n",
       "\n",
       "           NM_VOTAVEL  QT_VOTOS  Código Município TSE      Bairro  \\\n",
       "803565   FRED MARTINS         2               58653.0  SANTA ROSA   \n",
       "803566  ANA GUIMARÃES         1               58653.0  SANTA ROSA   \n",
       "803567     PARACHOQUE         1               58653.0  SANTA ROSA   \n",
       "803568          PAULA         1               58653.0  SANTA ROSA   \n",
       "803569  PAULO VELASCO         1               58653.0  SANTA ROSA   \n",
       "\n",
       "       Endereço do Local  CEP do Local  \\\n",
       "803565   RUA ITAGUAI 173    24240130.0   \n",
       "803566   RUA ITAGUAI 173    24240130.0   \n",
       "803567   RUA ITAGUAI 173    24240130.0   \n",
       "803568   RUA ITAGUAI 173    24240130.0   \n",
       "803569   RUA ITAGUAI 173    24240130.0   \n",
       "\n",
       "                                 Local de Votação  Eleitores aptos  \n",
       "803565  CENTRO EDUCACIONAL DE NITEROI - CENTRINHO            317.0  \n",
       "803566  CENTRO EDUCACIONAL DE NITEROI - CENTRINHO            317.0  \n",
       "803567  CENTRO EDUCACIONAL DE NITEROI - CENTRINHO            317.0  \n",
       "803568  CENTRO EDUCACIONAL DE NITEROI - CENTRINHO            317.0  \n",
       "803569  CENTRO EDUCACIONAL DE NITEROI - CENTRINHO            317.0  "
      ]
     },
     "execution_count": 26,
     "metadata": {},
     "output_type": "execute_result"
    }
   ],
   "source": [
    "\n",
    "vts.head()"
   ]
  },
  {
   "cell_type": "code",
   "execution_count": 27,
   "id": "db6786a2-945e-4913-b29a-01c2896ec5a5",
   "metadata": {
    "execution": {
     "iopub.execute_input": "2024-10-07T22:32:17.823995Z",
     "iopub.status.busy": "2024-10-07T22:32:17.823995Z",
     "iopub.status.idle": "2024-10-07T22:32:17.828902Z",
     "shell.execute_reply": "2024-10-07T22:32:17.828902Z",
     "shell.execute_reply.started": "2024-10-07T22:32:17.823995Z"
    },
    "tags": []
   },
   "outputs": [
    {
     "data": {
      "text/plain": [
       "'print(test)'"
      ]
     },
     "execution_count": 27,
     "metadata": {},
     "output_type": "execute_result"
    }
   ],
   "source": [
    "'''test = geo('RUA ITAGUAI 173, SANTA ROSA - NITERÓI - RJ')'''\n",
    "'''print(test)'''"
   ]
  },
  {
   "cell_type": "code",
   "execution_count": 28,
   "id": "7540fa67-7839-465b-95fa-88213ad606f0",
   "metadata": {
    "execution": {
     "iopub.execute_input": "2024-10-07T22:32:17.830900Z",
     "iopub.status.busy": "2024-10-07T22:32:17.830900Z",
     "iopub.status.idle": "2024-10-07T22:32:17.923603Z",
     "shell.execute_reply": "2024-10-07T22:32:17.923603Z",
     "shell.execute_reply.started": "2024-10-07T22:32:17.830900Z"
    },
    "tags": []
   },
   "outputs": [],
   "source": [
    "# Listando endereços e seus locais eleitorais\n",
    "\n",
    "vts['end_completo'] = vts['Endereço do Local'] + \", \" + vts['Bairro'] + \" - \" + vts['NM_MUNICIPIO'] + ' - ' + vts['SG_UF'] # criando uma string de end completo\n",
    "\n",
    "end_comp = vts['end_completo'].unique()\n",
    "ec = pd.DataFrame({'end': end_comp})\n",
    "ec['latitude'] = np.nan\n",
    "ec['longitude'] = np.nan"
   ]
  },
  {
   "cell_type": "code",
   "execution_count": 29,
   "id": "f888981a-ca2d-4801-bef7-1e99908d0180",
   "metadata": {
    "execution": {
     "iopub.execute_input": "2024-10-07T22:32:17.924595Z",
     "iopub.status.busy": "2024-10-07T22:32:17.924595Z",
     "iopub.status.idle": "2024-10-07T22:32:17.928838Z",
     "shell.execute_reply": "2024-10-07T22:32:17.928838Z",
     "shell.execute_reply.started": "2024-10-07T22:32:17.924595Z"
    },
    "tags": []
   },
   "outputs": [
    {
     "data": {
      "text/plain": [
       "\"### ESSE PEDAÇO TEM QUE SER OPTIMIZADO PARA NÃO TERMOS QUE CONSULTYAR O BD EXTERNO TODA VEZ, SÓ SE PODE FAZER 1500 CONSULTAS POR DIA!!!\\n\\nfor index, row in ec.iterrows(): #aplicando def geo e criando um xlsx pra salvar os endereços em lat log.\\n    end = row['end']\\n    endereco = geo(end)\\n    if ec.loc[index, 'latitude'] == np.nan: # eu imagino que isso seja muito feio, mas eu to com preguiça de pensar \\n        ec.loc[index, 'latitude'] = endereco[0]\\n    else:\\n        pass\\n    ec.loc[index, 'longitude'] == np.nan:\\n        ec.loc[index, 'longitude'] = endereco[1]\\n    else:\\n        pass\\nec.head()\""
      ]
     },
     "execution_count": 29,
     "metadata": {},
     "output_type": "execute_result"
    }
   ],
   "source": [
    "'''### ESSE PEDAÇO TEM QUE SER OPTIMIZADO PARA NÃO TERMOS QUE CONSULTYAR O BD EXTERNO TODA VEZ, SÓ SE PODE FAZER 1500 CONSULTAS POR DIA!!!\n",
    "\n",
    "for index, row in ec.iterrows(): #aplicando def geo e criando um xlsx pra salvar os endereços em lat log.\n",
    "    end = row['end']\n",
    "    endereco = geo(end)\n",
    "    if ec.loc[index, 'latitude'] == np.nan: # eu imagino que isso seja muito feio, mas eu to com preguiça de pensar \n",
    "        ec.loc[index, 'latitude'] = endereco[0]\n",
    "    else:\n",
    "        pass\n",
    "    ec.loc[index, 'longitude'] == np.nan:\n",
    "        ec.loc[index, 'longitude'] = endereco[1]\n",
    "    else:\n",
    "        pass\n",
    "ec.head()'''"
   ]
  },
  {
   "cell_type": "code",
   "execution_count": 30,
   "id": "175aa03a-6866-4edb-8fb7-d8e5a3abbdb7",
   "metadata": {
    "execution": {
     "iopub.execute_input": "2024-10-07T22:32:17.930819Z",
     "iopub.status.busy": "2024-10-07T22:32:17.930819Z",
     "iopub.status.idle": "2024-10-07T22:34:31.788833Z",
     "shell.execute_reply": "2024-10-07T22:34:31.788833Z",
     "shell.execute_reply.started": "2024-10-07T22:32:17.930819Z"
    },
    "tags": []
   },
   "outputs": [
    {
     "data": {
      "text/html": [
       "<div>\n",
       "<style scoped>\n",
       "    .dataframe tbody tr th:only-of-type {\n",
       "        vertical-align: middle;\n",
       "    }\n",
       "\n",
       "    .dataframe tbody tr th {\n",
       "        vertical-align: top;\n",
       "    }\n",
       "\n",
       "    .dataframe thead th {\n",
       "        text-align: right;\n",
       "    }\n",
       "</style>\n",
       "<table border=\"1\" class=\"dataframe\">\n",
       "  <thead>\n",
       "    <tr style=\"text-align: right;\">\n",
       "      <th></th>\n",
       "      <th>end</th>\n",
       "      <th>latitude</th>\n",
       "      <th>longitude</th>\n",
       "    </tr>\n",
       "  </thead>\n",
       "  <tbody>\n",
       "    <tr>\n",
       "      <th>0</th>\n",
       "      <td>RUA ITAGUAI 173, SANTA ROSA - NITERÓI - RJ</td>\n",
       "      <td>-22.896203</td>\n",
       "      <td>-43.101959</td>\n",
       "    </tr>\n",
       "    <tr>\n",
       "      <th>1</th>\n",
       "      <td>RUA NORONHA TORREZÃO 68, SANTA ROSA - NITERÓI ...</td>\n",
       "      <td>-22.896683</td>\n",
       "      <td>-43.100842</td>\n",
       "    </tr>\n",
       "    <tr>\n",
       "      <th>2</th>\n",
       "      <td>RUA LOPES TROVAO 287-A, ICARAÍ - NITERÓI - RJ</td>\n",
       "      <td>-22.904404</td>\n",
       "      <td>-43.109347</td>\n",
       "    </tr>\n",
       "    <tr>\n",
       "      <th>3</th>\n",
       "      <td>AV. ROBERTO SILVEIRA 29, ICARAÍ - NITERÓI - RJ</td>\n",
       "      <td>-22.900171</td>\n",
       "      <td>-43.109275</td>\n",
       "    </tr>\n",
       "    <tr>\n",
       "      <th>4</th>\n",
       "      <td>RUA GERALDO MARTINS 166, SANTA ROSA - NITERÓI ...</td>\n",
       "      <td>-22.898575</td>\n",
       "      <td>-43.104619</td>\n",
       "    </tr>\n",
       "  </tbody>\n",
       "</table>\n",
       "</div>"
      ],
      "text/plain": [
       "                                                 end   latitude  longitude\n",
       "0         RUA ITAGUAI 173, SANTA ROSA - NITERÓI - RJ -22.896203 -43.101959\n",
       "1  RUA NORONHA TORREZÃO 68, SANTA ROSA - NITERÓI ... -22.896683 -43.100842\n",
       "2      RUA LOPES TROVAO 287-A, ICARAÍ - NITERÓI - RJ -22.904404 -43.109347\n",
       "3     AV. ROBERTO SILVEIRA 29, ICARAÍ - NITERÓI - RJ -22.900171 -43.109275\n",
       "4  RUA GERALDO MARTINS 166, SANTA ROSA - NITERÓI ... -22.898575 -43.104619"
      ]
     },
     "execution_count": 30,
     "metadata": {},
     "output_type": "execute_result"
    }
   ],
   "source": [
    "\n",
    "for index, row in ec.iterrows(): \n",
    "    end = row['end']\n",
    "    endereco = geo(end)\n",
    "    ec.loc[index, 'latitude'] = endereco[0]\n",
    "    ec.loc[index, 'longitude'] = endereco[1]\n",
    "ec.head()"
   ]
  },
  {
   "cell_type": "code",
   "execution_count": 31,
   "id": "abf8469c-ca95-4698-bdc5-1f733316ddbc",
   "metadata": {
    "execution": {
     "iopub.execute_input": "2024-10-07T22:34:31.789833Z",
     "iopub.status.busy": "2024-10-07T22:34:31.789833Z",
     "iopub.status.idle": "2024-10-07T22:34:31.806950Z",
     "shell.execute_reply": "2024-10-07T22:34:31.806950Z",
     "shell.execute_reply.started": "2024-10-07T22:34:31.789833Z"
    },
    "tags": []
   },
   "outputs": [],
   "source": [
    "ec.to_excel(f'{cidadenorm}/latlog_{cidadenorm}.xlsx', index=False)"
   ]
  },
  {
   "cell_type": "code",
   "execution_count": 32,
   "id": "4c652d17-48c8-4b95-8990-f86b8eab865d",
   "metadata": {
    "execution": {
     "iopub.execute_input": "2024-10-07T22:34:31.807950Z",
     "iopub.status.busy": "2024-10-07T22:34:31.807950Z",
     "iopub.status.idle": "2024-10-07T22:34:31.865084Z",
     "shell.execute_reply": "2024-10-07T22:34:31.865084Z",
     "shell.execute_reply.started": "2024-10-07T22:34:31.807950Z"
    },
    "tags": []
   },
   "outputs": [
    {
     "data": {
      "text/html": [
       "<div>\n",
       "<style scoped>\n",
       "    .dataframe tbody tr th:only-of-type {\n",
       "        vertical-align: middle;\n",
       "    }\n",
       "\n",
       "    .dataframe tbody tr th {\n",
       "        vertical-align: top;\n",
       "    }\n",
       "\n",
       "    .dataframe thead th {\n",
       "        text-align: right;\n",
       "    }\n",
       "</style>\n",
       "<table border=\"1\" class=\"dataframe\">\n",
       "  <thead>\n",
       "    <tr style=\"text-align: right;\">\n",
       "      <th></th>\n",
       "      <th>SG_UF</th>\n",
       "      <th>NM_MUNICIPIO</th>\n",
       "      <th>NR_PARTIDO</th>\n",
       "      <th>SG_PARTIDO</th>\n",
       "      <th>QT_ABSTENCOES</th>\n",
       "      <th>NR_VOTAVEL</th>\n",
       "      <th>NM_VOTAVEL</th>\n",
       "      <th>QT_VOTOS</th>\n",
       "      <th>Código Município TSE</th>\n",
       "      <th>Bairro</th>\n",
       "      <th>Endereço do Local</th>\n",
       "      <th>CEP do Local</th>\n",
       "      <th>Local de Votação</th>\n",
       "      <th>Eleitores aptos</th>\n",
       "      <th>end_completo</th>\n",
       "      <th>latitude</th>\n",
       "      <th>longitude</th>\n",
       "    </tr>\n",
       "  </thead>\n",
       "  <tbody>\n",
       "    <tr>\n",
       "      <th>0</th>\n",
       "      <td>RJ</td>\n",
       "      <td>NITERÓI</td>\n",
       "      <td>17</td>\n",
       "      <td>PSL</td>\n",
       "      <td>80</td>\n",
       "      <td>17000</td>\n",
       "      <td>FRED MARTINS</td>\n",
       "      <td>2</td>\n",
       "      <td>58653.0</td>\n",
       "      <td>SANTA ROSA</td>\n",
       "      <td>RUA ITAGUAI 173</td>\n",
       "      <td>24240130.0</td>\n",
       "      <td>CENTRO EDUCACIONAL DE NITEROI - CENTRINHO</td>\n",
       "      <td>317.0</td>\n",
       "      <td>RUA ITAGUAI 173, SANTA ROSA - NITERÓI - RJ</td>\n",
       "      <td>-22.896203</td>\n",
       "      <td>-43.101959</td>\n",
       "    </tr>\n",
       "    <tr>\n",
       "      <th>1</th>\n",
       "      <td>RJ</td>\n",
       "      <td>NITERÓI</td>\n",
       "      <td>43</td>\n",
       "      <td>PV</td>\n",
       "      <td>80</td>\n",
       "      <td>43000</td>\n",
       "      <td>ANA GUIMARÃES</td>\n",
       "      <td>1</td>\n",
       "      <td>58653.0</td>\n",
       "      <td>SANTA ROSA</td>\n",
       "      <td>RUA ITAGUAI 173</td>\n",
       "      <td>24240130.0</td>\n",
       "      <td>CENTRO EDUCACIONAL DE NITEROI - CENTRINHO</td>\n",
       "      <td>317.0</td>\n",
       "      <td>RUA ITAGUAI 173, SANTA ROSA - NITERÓI - RJ</td>\n",
       "      <td>-22.896203</td>\n",
       "      <td>-43.101959</td>\n",
       "    </tr>\n",
       "    <tr>\n",
       "      <th>2</th>\n",
       "      <td>RJ</td>\n",
       "      <td>NITERÓI</td>\n",
       "      <td>65</td>\n",
       "      <td>PC do B</td>\n",
       "      <td>80</td>\n",
       "      <td>65133</td>\n",
       "      <td>PARACHOQUE</td>\n",
       "      <td>1</td>\n",
       "      <td>58653.0</td>\n",
       "      <td>SANTA ROSA</td>\n",
       "      <td>RUA ITAGUAI 173</td>\n",
       "      <td>24240130.0</td>\n",
       "      <td>CENTRO EDUCACIONAL DE NITEROI - CENTRINHO</td>\n",
       "      <td>317.0</td>\n",
       "      <td>RUA ITAGUAI 173, SANTA ROSA - NITERÓI - RJ</td>\n",
       "      <td>-22.896203</td>\n",
       "      <td>-43.101959</td>\n",
       "    </tr>\n",
       "    <tr>\n",
       "      <th>3</th>\n",
       "      <td>RJ</td>\n",
       "      <td>NITERÓI</td>\n",
       "      <td>50</td>\n",
       "      <td>PSOL</td>\n",
       "      <td>80</td>\n",
       "      <td>50377</td>\n",
       "      <td>PAULA</td>\n",
       "      <td>1</td>\n",
       "      <td>58653.0</td>\n",
       "      <td>SANTA ROSA</td>\n",
       "      <td>RUA ITAGUAI 173</td>\n",
       "      <td>24240130.0</td>\n",
       "      <td>CENTRO EDUCACIONAL DE NITEROI - CENTRINHO</td>\n",
       "      <td>317.0</td>\n",
       "      <td>RUA ITAGUAI 173, SANTA ROSA - NITERÓI - RJ</td>\n",
       "      <td>-22.896203</td>\n",
       "      <td>-43.101959</td>\n",
       "    </tr>\n",
       "    <tr>\n",
       "      <th>4</th>\n",
       "      <td>RJ</td>\n",
       "      <td>NITERÓI</td>\n",
       "      <td>70</td>\n",
       "      <td>AVANTE</td>\n",
       "      <td>80</td>\n",
       "      <td>70123</td>\n",
       "      <td>PAULO VELASCO</td>\n",
       "      <td>1</td>\n",
       "      <td>58653.0</td>\n",
       "      <td>SANTA ROSA</td>\n",
       "      <td>RUA ITAGUAI 173</td>\n",
       "      <td>24240130.0</td>\n",
       "      <td>CENTRO EDUCACIONAL DE NITEROI - CENTRINHO</td>\n",
       "      <td>317.0</td>\n",
       "      <td>RUA ITAGUAI 173, SANTA ROSA - NITERÓI - RJ</td>\n",
       "      <td>-22.896203</td>\n",
       "      <td>-43.101959</td>\n",
       "    </tr>\n",
       "  </tbody>\n",
       "</table>\n",
       "</div>"
      ],
      "text/plain": [
       "  SG_UF NM_MUNICIPIO  NR_PARTIDO SG_PARTIDO  QT_ABSTENCOES  NR_VOTAVEL  \\\n",
       "0    RJ      NITERÓI          17        PSL             80       17000   \n",
       "1    RJ      NITERÓI          43         PV             80       43000   \n",
       "2    RJ      NITERÓI          65    PC do B             80       65133   \n",
       "3    RJ      NITERÓI          50       PSOL             80       50377   \n",
       "4    RJ      NITERÓI          70     AVANTE             80       70123   \n",
       "\n",
       "      NM_VOTAVEL  QT_VOTOS  Código Município TSE      Bairro  \\\n",
       "0   FRED MARTINS         2               58653.0  SANTA ROSA   \n",
       "1  ANA GUIMARÃES         1               58653.0  SANTA ROSA   \n",
       "2     PARACHOQUE         1               58653.0  SANTA ROSA   \n",
       "3          PAULA         1               58653.0  SANTA ROSA   \n",
       "4  PAULO VELASCO         1               58653.0  SANTA ROSA   \n",
       "\n",
       "  Endereço do Local  CEP do Local                           Local de Votação  \\\n",
       "0   RUA ITAGUAI 173    24240130.0  CENTRO EDUCACIONAL DE NITEROI - CENTRINHO   \n",
       "1   RUA ITAGUAI 173    24240130.0  CENTRO EDUCACIONAL DE NITEROI - CENTRINHO   \n",
       "2   RUA ITAGUAI 173    24240130.0  CENTRO EDUCACIONAL DE NITEROI - CENTRINHO   \n",
       "3   RUA ITAGUAI 173    24240130.0  CENTRO EDUCACIONAL DE NITEROI - CENTRINHO   \n",
       "4   RUA ITAGUAI 173    24240130.0  CENTRO EDUCACIONAL DE NITEROI - CENTRINHO   \n",
       "\n",
       "   Eleitores aptos                                end_completo   latitude  \\\n",
       "0            317.0  RUA ITAGUAI 173, SANTA ROSA - NITERÓI - RJ -22.896203   \n",
       "1            317.0  RUA ITAGUAI 173, SANTA ROSA - NITERÓI - RJ -22.896203   \n",
       "2            317.0  RUA ITAGUAI 173, SANTA ROSA - NITERÓI - RJ -22.896203   \n",
       "3            317.0  RUA ITAGUAI 173, SANTA ROSA - NITERÓI - RJ -22.896203   \n",
       "4            317.0  RUA ITAGUAI 173, SANTA ROSA - NITERÓI - RJ -22.896203   \n",
       "\n",
       "   longitude  \n",
       "0 -43.101959  \n",
       "1 -43.101959  \n",
       "2 -43.101959  \n",
       "3 -43.101959  \n",
       "4 -43.101959  "
      ]
     },
     "execution_count": 32,
     "metadata": {},
     "output_type": "execute_result"
    }
   ],
   "source": [
    "ec.rename(columns={'end': 'end_completo'}, inplace=True) \n",
    "vts = pd.merge(vts, ec, on='end_completo', how='left')\n",
    "\n",
    "vts.head()"
   ]
  },
  {
   "cell_type": "code",
   "execution_count": 33,
   "id": "b1c2eb51-1ff4-4ef2-a9f2-3679f35ddb50",
   "metadata": {
    "execution": {
     "iopub.execute_input": "2024-10-07T22:34:31.866086Z",
     "iopub.status.busy": "2024-10-07T22:34:31.866086Z",
     "iopub.status.idle": "2024-10-07T22:34:32.690031Z",
     "shell.execute_reply": "2024-10-07T22:34:32.690031Z",
     "shell.execute_reply.started": "2024-10-07T22:34:31.866086Z"
    },
    "tags": []
   },
   "outputs": [
    {
     "ename": "TypeError",
     "evalue": "list indices must be integers or slices, not list",
     "output_type": "error",
     "traceback": [
      "\u001b[1;31m---------------------------------------------------------------------------\u001b[0m",
      "\u001b[1;31mTypeError\u001b[0m                                 Traceback (most recent call last)",
      "Cell \u001b[1;32mIn[33], line 4\u001b[0m\n\u001b[0;32m      2\u001b[0m vtsvar \u001b[38;5;241m=\u001b[39m [vts[\u001b[38;5;124m'\u001b[39m\u001b[38;5;124mSG_PARTIDO\u001b[39m\u001b[38;5;124m'\u001b[39m] \u001b[38;5;241m==\u001b[39m \u001b[38;5;124mf\u001b[39m\u001b[38;5;124m'\u001b[39m\u001b[38;5;132;01m{\u001b[39;00mpt\u001b[38;5;132;01m}\u001b[39;00m\u001b[38;5;124m'\u001b[39m]\n\u001b[0;32m      3\u001b[0m pt \u001b[38;5;241m=\u001b[39m norm(pt)\n\u001b[1;32m----> 4\u001b[0m ncl \u001b[38;5;241m=\u001b[39m vtsvar[[\u001b[38;5;124m'\u001b[39m\u001b[38;5;124mend_completo\u001b[39m\u001b[38;5;124m'\u001b[39m, \u001b[38;5;124m'\u001b[39m\u001b[38;5;124mNR_VOTAVEL\u001b[39m\u001b[38;5;124m'\u001b[39m, \u001b[38;5;124m'\u001b[39m\u001b[38;5;124mNM_VOTAVEL\u001b[39m\u001b[38;5;124m'\u001b[39m, \u001b[38;5;124m'\u001b[39m\u001b[38;5;124mQT_VOTOS\u001b[39m\u001b[38;5;124m'\u001b[39m]]\n\u001b[0;32m      5\u001b[0m ncl[\u001b[38;5;124m'\u001b[39m\u001b[38;5;124mCD_VOTAVEL\u001b[39m\u001b[38;5;124m'\u001b[39m] \u001b[38;5;241m=\u001b[39m ncl[\u001b[38;5;124m'\u001b[39m\u001b[38;5;124mNR_VOTAVEL\u001b[39m\u001b[38;5;124m'\u001b[39m]\u001b[38;5;241m.\u001b[39mastype(\u001b[38;5;28mstr\u001b[39m) \u001b[38;5;241m+\u001b[39m \u001b[38;5;124m\"\u001b[39m\u001b[38;5;124m_\u001b[39m\u001b[38;5;124m\"\u001b[39m \u001b[38;5;241m+\u001b[39m ncl[\u001b[38;5;124m'\u001b[39m\u001b[38;5;124mNM_VOTAVEL\u001b[39m\u001b[38;5;124m'\u001b[39m]\n\u001b[0;32m      6\u001b[0m ncl \u001b[38;5;241m=\u001b[39m ncl\u001b[38;5;241m.\u001b[39mgroupby([\u001b[38;5;124m'\u001b[39m\u001b[38;5;124mCD_VOTAVEL\u001b[39m\u001b[38;5;124m'\u001b[39m, \u001b[38;5;124m'\u001b[39m\u001b[38;5;124mend_completo\u001b[39m\u001b[38;5;124m'\u001b[39m])\u001b[38;5;241m.\u001b[39msum()\n",
      "\u001b[1;31mTypeError\u001b[0m: list indices must be integers or slices, not list"
     ]
    }
   ],
   "source": [
    "for pt in partidos:\n",
    "    vtsvar = [vts['SG_PARTIDO'] == f'{pt}']\n",
    "    pt = norm(pt)\n",
    "    ncl = vtsvar[['end_completo', 'NR_VOTAVEL', 'NM_VOTAVEL', 'QT_VOTOS']]\n",
    "    ncl['CD_VOTAVEL'] = ncl['NR_VOTAVEL'].astype(str) + \"_\" + ncl['NM_VOTAVEL']\n",
    "    ncl = ncl.groupby(['CD_VOTAVEL', 'end_completo']).sum()\n",
    "    ncl = ncl.reset_index()\n",
    "    ncl = ncl.drop(['NR_VOTAVEL'], axis=1)\n",
    "    ncl = pd.merge(ncl, ec, on='end_completo', how='left')\n",
    "    ncl = ncl.set_index(['CD_VOTAVEL', 'end_completo'])\n",
    "    ncl.to_excel(f'{cidadenorm}/ncl_{cidadenorm}_{pt}.xlsx', index=True)\n"
   ]
  },
  {
   "cell_type": "code",
   "execution_count": 34,
   "id": "e6fa2880-c81e-4db1-8190-6f3dc8c36640",
   "metadata": {
    "execution": {
     "iopub.execute_input": "2024-10-09T19:50:56.522996Z",
     "iopub.status.busy": "2024-10-09T19:50:56.520038Z",
     "iopub.status.idle": "2024-10-09T19:50:56.666838Z",
     "shell.execute_reply": "2024-10-09T19:50:56.665882Z",
     "shell.execute_reply.started": "2024-10-09T19:50:56.522996Z"
    },
    "tags": []
   },
   "outputs": [
    {
     "data": {
      "text/html": [
       "<div style=\"width:100%;\"><div style=\"position:relative;width:100%;height:0;padding-bottom:60%;\"><span style=\"color:#565656\">Make this Notebook Trusted to load map: File -> Trust Notebook</span><iframe srcdoc=\"&lt;!DOCTYPE html&gt;\n",
       "&lt;html&gt;\n",
       "&lt;head&gt;\n",
       "    \n",
       "    &lt;meta http-equiv=&quot;content-type&quot; content=&quot;text/html; charset=UTF-8&quot; /&gt;\n",
       "    \n",
       "        &lt;script&gt;\n",
       "            L_NO_TOUCH = false;\n",
       "            L_DISABLE_3D = false;\n",
       "        &lt;/script&gt;\n",
       "    \n",
       "    &lt;style&gt;html, body {width: 100%;height: 100%;margin: 0;padding: 0;}&lt;/style&gt;\n",
       "    &lt;style&gt;#map {position:absolute;top:0;bottom:0;right:0;left:0;}&lt;/style&gt;\n",
       "    &lt;script src=&quot;https://cdn.jsdelivr.net/npm/leaflet@1.9.3/dist/leaflet.js&quot;&gt;&lt;/script&gt;\n",
       "    &lt;script src=&quot;https://code.jquery.com/jquery-3.7.1.min.js&quot;&gt;&lt;/script&gt;\n",
       "    &lt;script src=&quot;https://cdn.jsdelivr.net/npm/bootstrap@5.2.2/dist/js/bootstrap.bundle.min.js&quot;&gt;&lt;/script&gt;\n",
       "    &lt;script src=&quot;https://cdnjs.cloudflare.com/ajax/libs/Leaflet.awesome-markers/2.0.2/leaflet.awesome-markers.js&quot;&gt;&lt;/script&gt;\n",
       "    &lt;link rel=&quot;stylesheet&quot; href=&quot;https://cdn.jsdelivr.net/npm/leaflet@1.9.3/dist/leaflet.css&quot;/&gt;\n",
       "    &lt;link rel=&quot;stylesheet&quot; href=&quot;https://cdn.jsdelivr.net/npm/bootstrap@5.2.2/dist/css/bootstrap.min.css&quot;/&gt;\n",
       "    &lt;link rel=&quot;stylesheet&quot; href=&quot;https://netdna.bootstrapcdn.com/bootstrap/3.0.0/css/bootstrap-glyphicons.css&quot;/&gt;\n",
       "    &lt;link rel=&quot;stylesheet&quot; href=&quot;https://cdn.jsdelivr.net/npm/@fortawesome/fontawesome-free@6.2.0/css/all.min.css&quot;/&gt;\n",
       "    &lt;link rel=&quot;stylesheet&quot; href=&quot;https://cdnjs.cloudflare.com/ajax/libs/Leaflet.awesome-markers/2.0.2/leaflet.awesome-markers.css&quot;/&gt;\n",
       "    &lt;link rel=&quot;stylesheet&quot; href=&quot;https://cdn.jsdelivr.net/gh/python-visualization/folium/folium/templates/leaflet.awesome.rotate.min.css&quot;/&gt;\n",
       "    \n",
       "            &lt;meta name=&quot;viewport&quot; content=&quot;width=device-width,\n",
       "                initial-scale=1.0, maximum-scale=1.0, user-scalable=no&quot; /&gt;\n",
       "            &lt;style&gt;\n",
       "                #map_00cdfe6d5d62ebc87bdaa7e90f1fdfb5 {\n",
       "                    position: relative;\n",
       "                    width: 100.0%;\n",
       "                    height: 100.0%;\n",
       "                    left: 0.0%;\n",
       "                    top: 0.0%;\n",
       "                }\n",
       "                .leaflet-container { font-size: 1rem; }\n",
       "            &lt;/style&gt;\n",
       "        \n",
       "    &lt;script src=&quot;https://cdn.jsdelivr.net/gh/python-visualization/folium@main/folium/templates/leaflet_heat.min.js&quot;&gt;&lt;/script&gt;\n",
       "&lt;/head&gt;\n",
       "&lt;body&gt;\n",
       "    \n",
       "    \n",
       "            &lt;div class=&quot;folium-map&quot; id=&quot;map_00cdfe6d5d62ebc87bdaa7e90f1fdfb5&quot; &gt;&lt;/div&gt;\n",
       "        \n",
       "&lt;/body&gt;\n",
       "&lt;script&gt;\n",
       "    \n",
       "    \n",
       "            var map_00cdfe6d5d62ebc87bdaa7e90f1fdfb5 = L.map(\n",
       "                &quot;map_00cdfe6d5d62ebc87bdaa7e90f1fdfb5&quot;,\n",
       "                {\n",
       "                    center: [-22.9068, -43.1729],\n",
       "                    crs: L.CRS.EPSG3857,\n",
       "                    zoom: 12,\n",
       "                    zoomControl: true,\n",
       "                    preferCanvas: false,\n",
       "                }\n",
       "            );\n",
       "\n",
       "            \n",
       "\n",
       "        \n",
       "    \n",
       "            var tile_layer_ef7d073154017afb892ebf8922ef87f0 = L.tileLayer(\n",
       "                &quot;https://tile.openstreetmap.org/{z}/{x}/{y}.png&quot;,\n",
       "                {&quot;attribution&quot;: &quot;\\u0026copy; \\u003ca href=\\&quot;https://www.openstreetmap.org/copyright\\&quot;\\u003eOpenStreetMap\\u003c/a\\u003e contributors&quot;, &quot;detectRetina&quot;: false, &quot;maxNativeZoom&quot;: 19, &quot;maxZoom&quot;: 19, &quot;minZoom&quot;: 0, &quot;noWrap&quot;: false, &quot;opacity&quot;: 1, &quot;subdomains&quot;: &quot;abc&quot;, &quot;tms&quot;: false}\n",
       "            );\n",
       "        \n",
       "    \n",
       "            tile_layer_ef7d073154017afb892ebf8922ef87f0.addTo(map_00cdfe6d5d62ebc87bdaa7e90f1fdfb5);\n",
       "        \n",
       "    \n",
       "            var heat_map_eaec9876f0bbe81996b180bc73f975c8 = L.heatLayer(\n",
       "                [[-22.8962026, -43.1019592, 1500], [-22.906847, -43.172896, 2500], [-22.913885, -43.209373, 1200], [-22.897042, -43.183029, 3000]],\n",
       "                {&quot;blur&quot;: 15, &quot;maxZoom&quot;: 18, &quot;minOpacity&quot;: 0.5, &quot;radius&quot;: 15}\n",
       "            );\n",
       "        \n",
       "    \n",
       "            heat_map_eaec9876f0bbe81996b180bc73f975c8.addTo(map_00cdfe6d5d62ebc87bdaa7e90f1fdfb5);\n",
       "        \n",
       "    \n",
       "            tile_layer_ef7d073154017afb892ebf8922ef87f0.addTo(map_00cdfe6d5d62ebc87bdaa7e90f1fdfb5);\n",
       "        \n",
       "    \n",
       "            heat_map_eaec9876f0bbe81996b180bc73f975c8.addTo(map_00cdfe6d5d62ebc87bdaa7e90f1fdfb5);\n",
       "        \n",
       "&lt;/script&gt;\n",
       "&lt;/html&gt;\" style=\"position:absolute;width:100%;height:100%;left:0;top:0;border:none !important;\" allowfullscreen webkitallowfullscreen mozallowfullscreen></iframe></div></div>"
      ],
      "text/plain": [
       "<folium.folium.Map at 0x242d63f69d0>"
      ]
     },
     "execution_count": 34,
     "metadata": {},
     "output_type": "execute_result"
    }
   ],
   "source": [
    "\n",
    "\n",
    "# Exemplo de dados com endereços, votos (valor numérico), latitude e longitude\n",
    "data = {'endereco': ['Local 1', 'Local 2', 'Local 3', 'Local 4'],\n",
    "        'votos': [1500, 2500, 1200, 3000],  # O número de votos (ou qualquer outro valor numérico)\n",
    "        'latitude': [-22.8962026, -22.906847, -22.913885, -22.897042],\n",
    "        'longitude': [-43.1019592, -43.172896, -43.209373, -43.183029]}\n",
    "\n",
    "# Cria o DataFrame\n",
    "df = pd.DataFrame(data)\n",
    "\n",
    "# Cria o mapa centrado em uma localização aproximada (exemplo: Niterói, RJ)\n",
    "m = folium.Map(location=[-22.9068, -43.1729], zoom_start=12)\n",
    "\n",
    "# Prepara os dados para o HeatMap\n",
    "# Os dados devem ser no formato: [[lat, lon, intensidade], ...]\n",
    "heat_data = [[row['latitude'], row['longitude'], row['votos']] for index, row in df.iterrows()]\n",
    "\n",
    "# Adiciona o HeatMap ao mapa\n",
    "HeatMap(heat_data, radius=15).add_to(m)\n",
    "\n",
    "# Salva o mapa em um arquivo HTML ou exibe no Jupyter Notebook\n",
    "m.save(\"heatmap_votos.html\")\n",
    "m"
   ]
  },
  {
   "cell_type": "code",
   "execution_count": null,
   "id": "dcc275d4-1f2d-4e30-afa8-7756db38d309",
   "metadata": {
    "execution": {
     "iopub.status.busy": "2024-10-07T22:34:32.692027Z",
     "iopub.status.idle": "2024-10-07T22:34:32.692027Z",
     "shell.execute_reply": "2024-10-07T22:34:32.692027Z",
     "shell.execute_reply.started": "2024-10-07T22:34:32.692027Z"
    },
    "tags": []
   },
   "outputs": [],
   "source": [
    "# Exibe o mapa\n",
    "m.save(\"mapa_votos.html\")  # Salva o mapa em um arquivo HTML\n",
    "m"
   ]
  },
  {
   "cell_type": "code",
   "execution_count": null,
   "id": "9e90befb-2b55-4e80-b795-b334ddb45a75",
   "metadata": {
    "tags": []
   },
   "outputs": [],
   "source": []
  },
  {
   "cell_type": "markdown",
   "id": "dd5c049f-6a14-4653-aeba-6664b35a0a2f",
   "metadata": {
    "jp-MarkdownHeadingCollapsed": true,
    "tags": []
   },
   "source": [
    "# RÚBRICA DOS PARTIDOS MUNICIPAIS\n",
    "> Todos os dados de cada partido\n"
   ]
  },
  {
   "cell_type": "code",
   "execution_count": null,
   "id": "2b77d38d-b358-4178-8b60-8b7d013537d2",
   "metadata": {
    "execution": {
     "iopub.status.busy": "2024-10-07T22:34:32.693025Z",
     "iopub.status.idle": "2024-10-07T22:34:32.693025Z",
     "shell.execute_reply": "2024-10-07T22:34:32.693025Z",
     "shell.execute_reply.started": "2024-10-07T22:34:32.693025Z"
    },
    "tags": []
   },
   "outputs": [],
   "source": [
    "# df vazio e o index como os pártidos por sigla\n",
    "partidos = votos['SG_PARTIDO'].unique()\n",
    "rubpt = pd.DataFrame(index=partidos)\n",
    "rubpt.head()"
   ]
  },
  {
   "cell_type": "code",
   "execution_count": null,
   "id": "0ba136c0-abc3-42b6-84d4-cf7409d5732d",
   "metadata": {
    "execution": {
     "iopub.status.busy": "2024-10-07T22:34:32.694023Z",
     "iopub.status.idle": "2024-10-07T22:34:32.694023Z",
     "shell.execute_reply": "2024-10-07T22:34:32.694023Z",
     "shell.execute_reply.started": "2024-10-07T22:34:32.694023Z"
    },
    "tags": []
   },
   "outputs": [],
   "source": [
    "# Quantos votos cada partido tem no total\n",
    "vtptds = votos.groupby('SG_PARTIDO')['QT_VOTOS'].sum()\n",
    "rubpt['VT_TOTAIS'] = vtptds\n",
    "rubpt.head()"
   ]
  },
  {
   "cell_type": "code",
   "execution_count": null,
   "id": "502f7806-d253-4557-8237-86ce8078d9fd",
   "metadata": {
    "execution": {
     "iopub.status.busy": "2024-10-07T22:34:32.695020Z",
     "iopub.status.idle": "2024-10-07T22:34:32.696018Z",
     "shell.execute_reply": "2024-10-07T22:34:32.695020Z",
     "shell.execute_reply.started": "2024-10-07T22:34:32.695020Z"
    },
    "tags": []
   },
   "outputs": [],
   "source": [
    "# Qantidade de candidatos por partidos\n",
    "qtcand = votos.groupby('SG_PARTIDO')['NM_VOTAVEL'].nunique()\n",
    "rubpt['QT_CANDIDATOS'] = qtcand\n",
    "rubpt.head()"
   ]
  },
  {
   "cell_type": "code",
   "execution_count": null,
   "id": "4ca8d77f-7a6e-4ec3-ac3f-4296cdb7cba0",
   "metadata": {
    "execution": {
     "iopub.status.busy": "2024-10-07T22:34:32.697016Z",
     "iopub.status.idle": "2024-10-07T22:34:32.697016Z",
     "shell.execute_reply": "2024-10-07T22:34:32.697016Z",
     "shell.execute_reply.started": "2024-10-07T22:34:32.697016Z"
    },
    "tags": []
   },
   "outputs": [],
   "source": [
    "rubpt['EFICIENCIA_NOMINATA'] = rubpt['VT_TOTAIS'] / rubpt['QT_CANDIDATOS']\n",
    "rubpt.head()"
   ]
  },
  {
   "cell_type": "code",
   "execution_count": null,
   "id": "e3d6f88c-5648-46cf-af33-bcb7f7ee32cb",
   "metadata": {
    "execution": {
     "iopub.status.busy": "2024-10-07T22:34:32.698013Z",
     "iopub.status.idle": "2024-10-07T22:34:32.699011Z",
     "shell.execute_reply": "2024-10-07T22:34:32.699011Z",
     "shell.execute_reply.started": "2024-10-07T22:34:32.699011Z"
    },
    "tags": []
   },
   "outputs": [],
   "source": [
    "# Vendo quais partidos tem maior penetração através da legenda e não em nome de um partido\n",
    "qtnominata = votos.groupby('SG_PARTIDO')['DS_TIPO_VOTAVEL'].apply(lambda x:(x == 'Legenda').sum())\n",
    "rubpt['VTS_LEGENDA'] = qtnominata\n",
    "rubpt['PCTG_VTLEGENDA'] = (rubpt['VTS_LEGENDA'] / rubpt['VT_TOTAIS']) * 100\n",
    "rubpt.head()"
   ]
  },
  {
   "cell_type": "code",
   "execution_count": null,
   "id": "fb2f2668-5b98-4883-8677-67b362f65304",
   "metadata": {
    "execution": {
     "iopub.status.busy": "2024-10-07T22:34:32.700007Z",
     "iopub.status.idle": "2024-10-07T22:34:32.701005Z",
     "shell.execute_reply": "2024-10-07T22:34:32.701005Z",
     "shell.execute_reply.started": "2024-10-07T22:34:32.701005Z"
    },
    "tags": []
   },
   "outputs": [],
   "source": [
    "# Totais. Note que a parte da eficiencia e porcentagem da legenda não significa.\n",
    "qtstotais = rubpt.sum()\n",
    "rubpt.loc['TOTAL PARTIDOS'] = qtstotais\n",
    "rubpt.tail()"
   ]
  },
  {
   "cell_type": "code",
   "execution_count": null,
   "id": "00a55f80-069f-44af-a2b8-7a61a36531c8",
   "metadata": {
    "execution": {
     "iopub.status.busy": "2024-10-07T22:34:32.702001Z",
     "iopub.status.idle": "2024-10-07T22:34:32.702999Z",
     "shell.execute_reply": "2024-10-07T22:34:32.702001Z",
     "shell.execute_reply.started": "2024-10-07T22:34:32.702001Z"
    },
    "tags": []
   },
   "outputs": [],
   "source": [
    "# Médias totais. Eficiencie nominata e % legenda requerem que se \"limpe\" a rubrica dos nulos na contagem. Como não parece ser uma rúbrica importante, por hora vale a pena deixar de lado.  \n",
    "mediatt = rubpt.mean()\n",
    "rubpt.loc['MÉDIA PARTIDOS'] = mediatt\n",
    "rubpt.tail()"
   ]
  },
  {
   "cell_type": "code",
   "execution_count": null,
   "id": "8ef16ffa-0d33-46c1-b35a-d7ea77489bc8",
   "metadata": {
    "execution": {
     "iopub.status.busy": "2024-10-07T22:34:32.702999Z",
     "iopub.status.idle": "2024-10-07T22:34:32.704028Z",
     "shell.execute_reply": "2024-10-07T22:34:32.704028Z",
     "shell.execute_reply.started": "2024-10-07T22:34:32.704028Z"
    },
    "tags": []
   },
   "outputs": [],
   "source": [
    "rubpt = rubpt.round(2)\n",
    "print(rubpt)"
   ]
  },
  {
   "cell_type": "code",
   "execution_count": null,
   "id": "8292dc39-c949-4f27-bfed-c459a5001dba",
   "metadata": {
    "execution": {
     "iopub.status.busy": "2024-10-07T22:34:32.704994Z",
     "iopub.status.idle": "2024-10-07T22:34:32.705990Z",
     "shell.execute_reply": "2024-10-07T22:34:32.704994Z",
     "shell.execute_reply.started": "2024-10-07T22:34:32.704994Z"
    },
    "tags": []
   },
   "outputs": [],
   "source": [
    "# Cria uma figura e um eixo\n",
    "fig, ax = plt.subplots(figsize=(8, 4))  # Ajuste o tamanho conforme necessário\n",
    "\n",
    "# Remove os eixos\n",
    "ax.xaxis.set_visible(False)\n",
    "ax.yaxis.set_visible(False)\n",
    "ax.set_frame_on(False)\n",
    "\n",
    "# Adiciona a tabela ao gráfico\n",
    "tbl = table(ax, rubpt, loc='center', cellLoc='left', colWidths=[0.2]*len(rubpt.columns))\n",
    "\n",
    "# Ajusta o tamanho da fonte\n",
    "tbl.auto_set_font_size(False)\n",
    "tbl.set_fontsize(10)\n",
    "\n",
    "# Personaliza as cores\n",
    "colors = {\n",
    "    'index': '#ff9999',  # Cor do índice\n",
    "    'header': '#66b3ff',  # Cor do cabeçalho\n",
    "    'row_1': '#99ff99',   # Cor da penúltima linha\n",
    "    'row_2': '#ffcc99'    # Cor da última linha\n",
    "}\n",
    "\n",
    "# Aplica a cor ao cabeçalho\n",
    "for key, cell in tbl.get_celld().items():\n",
    "    if key[0] == 0:  # Células do cabeçalho\n",
    "        cell.set_text_props(weight='bold', fontsize='7')\n",
    "        cell.set_facecolor(colors['header'])\n",
    "    elif key[1] == -1:  # Células do índice\n",
    "        cell.set_facecolor(colors['index'])\n",
    "    elif key[0] == len(rubpt):  # Última linha\n",
    "        cell.set_facecolor(colors['row_2'])\n",
    "    elif key[0] == len(rubpt) - 1:  # Penúltima linha\n",
    "        cell.set_facecolor(colors['row_1'])     \n",
    "\n",
    "\n",
    "savename = cidade.replace(' ', '_')\n",
    "# Salva a imagem\n",
    "plt.savefig(f'partidos_{savename}.png', bbox_inches='tight', pad_inches=0.3)\n",
    "\n",
    "# Exibe a imagem (opcional)\n",
    "plt.show()"
   ]
  }
 ],
 "metadata": {
  "kernelspec": {
   "display_name": "Python 3 (ipykernel)",
   "language": "python",
   "name": "python3"
  },
  "language_info": {
   "codemirror_mode": {
    "name": "ipython",
    "version": 3
   },
   "file_extension": ".py",
   "mimetype": "text/x-python",
   "name": "python",
   "nbconvert_exporter": "python",
   "pygments_lexer": "ipython3",
   "version": "3.12.4"
  }
 },
 "nbformat": 4,
 "nbformat_minor": 5
}
