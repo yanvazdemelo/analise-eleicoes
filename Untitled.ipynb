{
 "cells": [
  {
   "cell_type": "code",
   "execution_count": 1,
   "id": "5d22c011-f138-4db7-ac9f-38bd9d9f9377",
   "metadata": {
    "execution": {
     "iopub.execute_input": "2024-09-16T17:23:54.087481Z",
     "iopub.status.busy": "2024-09-16T17:23:54.087481Z",
     "iopub.status.idle": "2024-09-16T17:23:54.095508Z",
     "shell.execute_reply": "2024-09-16T17:23:54.094514Z",
     "shell.execute_reply.started": "2024-09-16T17:23:54.087481Z"
    },
    "tags": []
   },
   "outputs": [],
   "source": [
    "GEOAPI_KEY = 'f8c08d488b9c45588b1dcad65de8b2d4'"
   ]
  },
  {
   "cell_type": "code",
   "execution_count": 2,
   "id": "3bfdfe63-5fb6-484a-b8b6-91cedc5ef69b",
   "metadata": {
    "execution": {
     "iopub.execute_input": "2024-09-16T17:23:54.096504Z",
     "iopub.status.busy": "2024-09-16T17:23:54.096504Z",
     "iopub.status.idle": "2024-09-16T17:24:00.829024Z",
     "shell.execute_reply": "2024-09-16T17:24:00.828029Z",
     "shell.execute_reply.started": "2024-09-16T17:23:54.096504Z"
    },
    "tags": []
   },
   "outputs": [
    {
     "name": "stdout",
     "output_type": "stream",
     "text": [
      "Requirement already satisfied: opencage in c:\\users\\yanme\\anaconda3\\lib\\site-packages (3.0.2)\n",
      "Requirement already satisfied: Requests>=2.31.0 in c:\\users\\yanme\\appdata\\roaming\\python\\python311\\site-packages (from opencage) (2.32.3)\n",
      "Requirement already satisfied: backoff>=2.2.1 in c:\\users\\yanme\\anaconda3\\lib\\site-packages (from opencage) (2.2.1)\n",
      "Requirement already satisfied: tqdm>=4.66.4 in c:\\users\\yanme\\appdata\\roaming\\python\\python311\\site-packages (from opencage) (4.66.4)\n",
      "Requirement already satisfied: certifi>=2024.07.04 in c:\\users\\yanme\\anaconda3\\lib\\site-packages (from opencage) (2024.8.30)\n",
      "Requirement already satisfied: aiohttp>=3.10.5 in c:\\users\\yanme\\anaconda3\\lib\\site-packages (from opencage) (3.10.5)\n",
      "Requirement already satisfied: aiohappyeyeballs>=2.3.0 in c:\\users\\yanme\\anaconda3\\lib\\site-packages (from aiohttp>=3.10.5->opencage) (2.4.0)\n",
      "Requirement already satisfied: aiosignal>=1.1.2 in c:\\users\\yanme\\anaconda3\\lib\\site-packages (from aiohttp>=3.10.5->opencage) (1.2.0)\n",
      "Requirement already satisfied: attrs>=17.3.0 in c:\\users\\yanme\\anaconda3\\lib\\site-packages (from aiohttp>=3.10.5->opencage) (22.1.0)\n",
      "Requirement already satisfied: frozenlist>=1.1.1 in c:\\users\\yanme\\anaconda3\\lib\\site-packages (from aiohttp>=3.10.5->opencage) (1.3.3)\n",
      "Requirement already satisfied: multidict<7.0,>=4.5 in c:\\users\\yanme\\anaconda3\\lib\\site-packages (from aiohttp>=3.10.5->opencage) (6.0.2)\n",
      "Requirement already satisfied: yarl<2.0,>=1.0 in c:\\users\\yanme\\anaconda3\\lib\\site-packages (from aiohttp>=3.10.5->opencage) (1.8.1)\n",
      "Requirement already satisfied: charset-normalizer<4,>=2 in c:\\users\\yanme\\anaconda3\\lib\\site-packages (from Requests>=2.31.0->opencage) (2.0.4)\n",
      "Requirement already satisfied: idna<4,>=2.5 in c:\\users\\yanme\\anaconda3\\lib\\site-packages (from Requests>=2.31.0->opencage) (2.10)\n",
      "Requirement already satisfied: urllib3<3,>=1.21.1 in c:\\users\\yanme\\anaconda3\\lib\\site-packages (from Requests>=2.31.0->opencage) (1.26.16)\n",
      "Requirement already satisfied: colorama in c:\\users\\yanme\\anaconda3\\lib\\site-packages (from tqdm>=4.66.4->opencage) (0.4.6)\n"
     ]
    }
   ],
   "source": [
    "!pip install opencage"
   ]
  },
  {
   "cell_type": "code",
   "execution_count": 3,
   "id": "6b6f8f20-8669-4acd-82a2-c4dd0d198470",
   "metadata": {
    "execution": {
     "iopub.execute_input": "2024-09-16T17:24:00.831020Z",
     "iopub.status.busy": "2024-09-16T17:24:00.830022Z",
     "iopub.status.idle": "2024-09-16T17:24:02.158727Z",
     "shell.execute_reply": "2024-09-16T17:24:02.158727Z",
     "shell.execute_reply.started": "2024-09-16T17:24:00.831020Z"
    },
    "tags": []
   },
   "outputs": [
    {
     "name": "stdout",
     "output_type": "stream",
     "text": [
      "(-22.3485805, -48.7814192)\n"
     ]
    }
   ],
   "source": [
    "from opencage.geocoder import OpenCageGeocode\n",
    "\n",
    "key = GEOAPI_KEY\n",
    "geocoder = OpenCageGeocode(key)\n",
    "\n",
    "def geo(address):\n",
    "    result = geocoder.geocode(address)\n",
    "    if result:\n",
    "        return result[0]['geometry']['lat'], result[0]['geometry']['lng']\n",
    "    else:\n",
    "        return None, None\n",
    "    \n",
    "test = geo('av. paulista,n 1000 - são paulo - sp')\n",
    "print(test)"
   ]
  },
  {
   "cell_type": "code",
   "execution_count": null,
   "id": "63b25567-0b37-4133-94a5-412c6c149208",
   "metadata": {},
   "outputs": [],
   "source": []
  }
 ],
 "metadata": {
  "kernelspec": {
   "display_name": "Python 3 (ipykernel)",
   "language": "python",
   "name": "python3"
  },
  "language_info": {
   "codemirror_mode": {
    "name": "ipython",
    "version": 3
   },
   "file_extension": ".py",
   "mimetype": "text/x-python",
   "name": "python",
   "nbconvert_exporter": "python",
   "pygments_lexer": "ipython3",
   "version": "3.11.4"
  }
 },
 "nbformat": 4,
 "nbformat_minor": 5
}
